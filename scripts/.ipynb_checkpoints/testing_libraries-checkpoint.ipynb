{
 "cells": [
  {
   "cell_type": "code",
   "execution_count": 96,
   "metadata": {},
   "outputs": [],
   "source": [
    "# Reset all variables so that we can 'run all cells' and not get unused variables hanging around\n",
    "# %reset -f"
   ]
  },
  {
   "cell_type": "code",
   "execution_count": 128,
   "metadata": {},
   "outputs": [],
   "source": [
    "import pandas as pd\n",
    "import numpy as np\n",
    "from pivottablejs import pivot_ui\n",
    "import random"
   ]
  },
  {
   "cell_type": "code",
   "execution_count": 98,
   "metadata": {
    "scrolled": true
   },
   "outputs": [
    {
     "data": {
      "text/html": [
       "<div>\n",
       "<style scoped>\n",
       "    .dataframe tbody tr th:only-of-type {\n",
       "        vertical-align: middle;\n",
       "    }\n",
       "\n",
       "    .dataframe tbody tr th {\n",
       "        vertical-align: top;\n",
       "    }\n",
       "\n",
       "    .dataframe thead th {\n",
       "        text-align: right;\n",
       "    }\n",
       "</style>\n",
       "<table border=\"1\" class=\"dataframe\">\n",
       "  <thead>\n",
       "    <tr style=\"text-align: right;\">\n",
       "      <th></th>\n",
       "      <th>welder_is_on</th>\n",
       "      <th>day_name</th>\n",
       "      <th>hour</th>\n",
       "      <th>day_index</th>\n",
       "      <th>day</th>\n",
       "    </tr>\n",
       "    <tr>\n",
       "      <th>time_local</th>\n",
       "      <th></th>\n",
       "      <th></th>\n",
       "      <th></th>\n",
       "      <th></th>\n",
       "      <th></th>\n",
       "    </tr>\n",
       "  </thead>\n",
       "  <tbody>\n",
       "    <tr>\n",
       "      <th>2018-09-18 06:00:00+03:00</th>\n",
       "      <td>0</td>\n",
       "      <td>Tuesday</td>\n",
       "      <td>6</td>\n",
       "      <td>1</td>\n",
       "      <td>1_Tuesday</td>\n",
       "    </tr>\n",
       "    <tr>\n",
       "      <th>2018-09-09 05:00:00+03:00</th>\n",
       "      <td>0</td>\n",
       "      <td>Sunday</td>\n",
       "      <td>5</td>\n",
       "      <td>6</td>\n",
       "      <td>6_Sunday</td>\n",
       "    </tr>\n",
       "    <tr>\n",
       "      <th>2018-09-18 20:00:00+03:00</th>\n",
       "      <td>0</td>\n",
       "      <td>Tuesday</td>\n",
       "      <td>20</td>\n",
       "      <td>1</td>\n",
       "      <td>1_Tuesday</td>\n",
       "    </tr>\n",
       "    <tr>\n",
       "      <th>2018-09-12 07:00:00+03:00</th>\n",
       "      <td>0</td>\n",
       "      <td>Wednesday</td>\n",
       "      <td>7</td>\n",
       "      <td>2</td>\n",
       "      <td>2_Wednesday</td>\n",
       "    </tr>\n",
       "    <tr>\n",
       "      <th>2018-09-09 07:00:00+03:00</th>\n",
       "      <td>0</td>\n",
       "      <td>Sunday</td>\n",
       "      <td>7</td>\n",
       "      <td>6</td>\n",
       "      <td>6_Sunday</td>\n",
       "    </tr>\n",
       "    <tr>\n",
       "      <th>2018-09-18 05:00:00+03:00</th>\n",
       "      <td>0</td>\n",
       "      <td>Tuesday</td>\n",
       "      <td>5</td>\n",
       "      <td>1</td>\n",
       "      <td>1_Tuesday</td>\n",
       "    </tr>\n",
       "    <tr>\n",
       "      <th>2018-09-20 20:00:00+03:00</th>\n",
       "      <td>0</td>\n",
       "      <td>Thursday</td>\n",
       "      <td>20</td>\n",
       "      <td>3</td>\n",
       "      <td>3_Thursday</td>\n",
       "    </tr>\n",
       "    <tr>\n",
       "      <th>2018-09-21 00:00:00+03:00</th>\n",
       "      <td>0</td>\n",
       "      <td>Friday</td>\n",
       "      <td>0</td>\n",
       "      <td>4</td>\n",
       "      <td>4_Friday</td>\n",
       "    </tr>\n",
       "    <tr>\n",
       "      <th>2018-09-17 18:00:00+03:00</th>\n",
       "      <td>0</td>\n",
       "      <td>Monday</td>\n",
       "      <td>18</td>\n",
       "      <td>0</td>\n",
       "      <td>0_Monday</td>\n",
       "    </tr>\n",
       "    <tr>\n",
       "      <th>2018-09-11 17:00:00+03:00</th>\n",
       "      <td>0</td>\n",
       "      <td>Tuesday</td>\n",
       "      <td>17</td>\n",
       "      <td>1</td>\n",
       "      <td>1_Tuesday</td>\n",
       "    </tr>\n",
       "  </tbody>\n",
       "</table>\n",
       "</div>"
      ],
      "text/plain": [
       "                           welder_is_on   day_name  hour  day_index  \\\n",
       "time_local                                                            \n",
       "2018-09-18 06:00:00+03:00             0    Tuesday     6          1   \n",
       "2018-09-09 05:00:00+03:00             0     Sunday     5          6   \n",
       "2018-09-18 20:00:00+03:00             0    Tuesday    20          1   \n",
       "2018-09-12 07:00:00+03:00             0  Wednesday     7          2   \n",
       "2018-09-09 07:00:00+03:00             0     Sunday     7          6   \n",
       "2018-09-18 05:00:00+03:00             0    Tuesday     5          1   \n",
       "2018-09-20 20:00:00+03:00             0   Thursday    20          3   \n",
       "2018-09-21 00:00:00+03:00             0     Friday     0          4   \n",
       "2018-09-17 18:00:00+03:00             0     Monday    18          0   \n",
       "2018-09-11 17:00:00+03:00             0    Tuesday    17          1   \n",
       "\n",
       "                                   day  \n",
       "time_local                              \n",
       "2018-09-18 06:00:00+03:00    1_Tuesday  \n",
       "2018-09-09 05:00:00+03:00     6_Sunday  \n",
       "2018-09-18 20:00:00+03:00    1_Tuesday  \n",
       "2018-09-12 07:00:00+03:00  2_Wednesday  \n",
       "2018-09-09 07:00:00+03:00     6_Sunday  \n",
       "2018-09-18 05:00:00+03:00    1_Tuesday  \n",
       "2018-09-20 20:00:00+03:00   3_Thursday  \n",
       "2018-09-21 00:00:00+03:00     4_Friday  \n",
       "2018-09-17 18:00:00+03:00     0_Monday  \n",
       "2018-09-11 17:00:00+03:00    1_Tuesday  "
      ]
     },
     "execution_count": 98,
     "metadata": {},
     "output_type": "execute_result"
    }
   ],
   "source": [
    "df = pd.read_csv(\"data/welder_time_local.csv\").set_index('time_local')\n",
    "df.sample(10)"
   ]
  },
  {
   "cell_type": "code",
   "execution_count": 106,
   "metadata": {
    "scrolled": false
   },
   "outputs": [
    {
     "data": {
      "text/html": [
       "\n",
       "        <iframe\n",
       "            width=\"100%\"\n",
       "            height=\"500\"\n",
       "            src=\"pivottablejs.html\"\n",
       "            frameborder=\"0\"\n",
       "            allowfullscreen\n",
       "        ></iframe>\n",
       "        "
      ],
      "text/plain": [
       "<IPython.lib.display.IFrame at 0x112406f98>"
      ]
     },
     "execution_count": 106,
     "metadata": {},
     "output_type": "execute_result"
    }
   ],
   "source": [
    "# To come up with the config options, use this example to output the config: \n",
    "# https://pivottable.js.org/examples/onrefresh.html\n",
    "pivot_ui(df, \n",
    "         rows=['day'],\n",
    "         cols=['hour'],\n",
    "         rendererName=\"Table Barchart\",\n",
    "         aggregatorName=\"Average\",\n",
    "         vals=[\"welder_is_on\"])"
   ]
  },
  {
   "cell_type": "code",
   "execution_count": 107,
   "metadata": {},
   "outputs": [
    {
     "data": {
      "text/html": [
       "\n",
       "        <iframe\n",
       "            width=\"100%\"\n",
       "            height=\"500\"\n",
       "            src=\"pivottablejs.html\"\n",
       "            frameborder=\"0\"\n",
       "            allowfullscreen\n",
       "        ></iframe>\n",
       "        "
      ],
      "text/plain": [
       "<IPython.lib.display.IFrame at 0x112406320>"
      ]
     },
     "execution_count": 107,
     "metadata": {},
     "output_type": "execute_result"
    }
   ],
   "source": [
    "pivot_ui(df, \n",
    "         rows=['day'],\n",
    "         cols=['hour'],\n",
    "         rendererName=\"Table Barchart\",\n",
    "         aggregatorName=\"Sum over Sum\",\n",
    "         vals=[\"welder_is_on\", \"hour\"])"
   ]
  },
  {
   "cell_type": "markdown",
   "metadata": {},
   "source": [
    "## Example functions for next section:"
   ]
  },
  {
   "cell_type": "code",
   "execution_count": 143,
   "metadata": {},
   "outputs": [
    {
     "data": {
      "text/plain": [
       "3"
      ]
     },
     "execution_count": 143,
     "metadata": {},
     "output_type": "execute_result"
    }
   ],
   "source": [
    "measured = [1, 2, 3, 4, 5, 6, 7, 8, 9, 10]\n",
    "s1 = random.choice(measured)\n",
    "s1"
   ]
  },
  {
   "cell_type": "code",
   "execution_count": 145,
   "metadata": {},
   "outputs": [
    {
     "data": {
      "text/html": [
       "<div>\n",
       "<style scoped>\n",
       "    .dataframe tbody tr th:only-of-type {\n",
       "        vertical-align: middle;\n",
       "    }\n",
       "\n",
       "    .dataframe tbody tr th {\n",
       "        vertical-align: top;\n",
       "    }\n",
       "\n",
       "    .dataframe thead th {\n",
       "        text-align: right;\n",
       "    }\n",
       "</style>\n",
       "<table border=\"1\" class=\"dataframe\">\n",
       "  <thead>\n",
       "    <tr style=\"text-align: right;\">\n",
       "      <th></th>\n",
       "      <th>welder_is_on</th>\n",
       "      <th>day_name</th>\n",
       "      <th>hour</th>\n",
       "      <th>day_index</th>\n",
       "      <th>day</th>\n",
       "    </tr>\n",
       "    <tr>\n",
       "      <th>time_local</th>\n",
       "      <th></th>\n",
       "      <th></th>\n",
       "      <th></th>\n",
       "      <th></th>\n",
       "      <th></th>\n",
       "    </tr>\n",
       "  </thead>\n",
       "  <tbody>\n",
       "    <tr>\n",
       "      <th>2018-09-10 16:00:00+03:00</th>\n",
       "      <td>0</td>\n",
       "      <td>Monday</td>\n",
       "      <td>16</td>\n",
       "      <td>0</td>\n",
       "      <td>0_Monday</td>\n",
       "    </tr>\n",
       "    <tr>\n",
       "      <th>2018-09-17 00:00:00+03:00</th>\n",
       "      <td>0</td>\n",
       "      <td>Monday</td>\n",
       "      <td>0</td>\n",
       "      <td>0</td>\n",
       "      <td>0_Monday</td>\n",
       "    </tr>\n",
       "    <tr>\n",
       "      <th>2018-09-10 11:00:00+03:00</th>\n",
       "      <td>0</td>\n",
       "      <td>Monday</td>\n",
       "      <td>11</td>\n",
       "      <td>0</td>\n",
       "      <td>0_Monday</td>\n",
       "    </tr>\n",
       "  </tbody>\n",
       "</table>\n",
       "</div>"
      ],
      "text/plain": [
       "                           welder_is_on day_name  hour  day_index       day\n",
       "time_local                                                                 \n",
       "2018-09-10 16:00:00+03:00             0   Monday    16          0  0_Monday\n",
       "2018-09-17 00:00:00+03:00             0   Monday     0          0  0_Monday\n",
       "2018-09-10 11:00:00+03:00             0   Monday    11          0  0_Monday"
      ]
     },
     "execution_count": 145,
     "metadata": {},
     "output_type": "execute_result"
    }
   ],
   "source": [
    "df[df['day_name'] == 'Monday'].sample(3)"
   ]
  },
  {
   "cell_type": "markdown",
   "metadata": {},
   "source": [
    "## Create load profile generator\n",
    "\n",
    "Take a sample of every hour of every weekday: So for example:\n",
    "\n",
    "```\n",
    "measured_usage = {\n",
    "  fre_09: [0, 1, 0, 3, 0, 1, 1]     # Friday @ 9am\n",
    "  sat_10: [0, 0, 1, 30, 10, 0, 2]   # Saturday @ 10am\n",
    "  ...\n",
    "}\n",
    "\n",
    "```\n",
    "\n",
    "Day 1 of the year (Sat @ 10am): sample(measured_usage.sat_10)\n",
    "\n",
    "Day 2 of the year (Frid @ 9am): sample(measured_usage.sat_10)\n",
    "\n",
    "Check: see if the sum, avg and std roughly matches the measured values"
   ]
  },
  {
   "cell_type": "code",
   "execution_count": null,
   "metadata": {},
   "outputs": [],
   "source": [
    "day_range = range(7)\n",
    "hour_range = range(25)"
   ]
  },
  {
   "cell_type": "code",
   "execution_count": 163,
   "metadata": {},
   "outputs": [],
   "source": [
    "def shorten_day_name(day_string):\n",
    "    return day_string[0:3].lower()"
   ]
  },
  {
   "cell_type": "code",
   "execution_count": 169,
   "metadata": {},
   "outputs": [
    {
     "data": {
      "text/html": [
       "<div>\n",
       "<style scoped>\n",
       "    .dataframe tbody tr th:only-of-type {\n",
       "        vertical-align: middle;\n",
       "    }\n",
       "\n",
       "    .dataframe tbody tr th {\n",
       "        vertical-align: top;\n",
       "    }\n",
       "\n",
       "    .dataframe thead th {\n",
       "        text-align: right;\n",
       "    }\n",
       "</style>\n",
       "<table border=\"1\" class=\"dataframe\">\n",
       "  <thead>\n",
       "    <tr style=\"text-align: right;\">\n",
       "      <th></th>\n",
       "      <th>welder_is_on</th>\n",
       "      <th>day_name</th>\n",
       "      <th>hour</th>\n",
       "      <th>day_index</th>\n",
       "      <th>day</th>\n",
       "    </tr>\n",
       "    <tr>\n",
       "      <th>time_local</th>\n",
       "      <th></th>\n",
       "      <th></th>\n",
       "      <th></th>\n",
       "      <th></th>\n",
       "      <th></th>\n",
       "    </tr>\n",
       "  </thead>\n",
       "  <tbody>\n",
       "    <tr>\n",
       "      <th>2018-09-17 13:00:00+03:00</th>\n",
       "      <td>0</td>\n",
       "      <td>Monday</td>\n",
       "      <td>13</td>\n",
       "      <td>0</td>\n",
       "      <td>0_Monday</td>\n",
       "    </tr>\n",
       "    <tr>\n",
       "      <th>2018-09-15 06:00:00+03:00</th>\n",
       "      <td>0</td>\n",
       "      <td>Saturday</td>\n",
       "      <td>6</td>\n",
       "      <td>5</td>\n",
       "      <td>5_Saturday</td>\n",
       "    </tr>\n",
       "    <tr>\n",
       "      <th>2018-09-09 17:00:00+03:00</th>\n",
       "      <td>0</td>\n",
       "      <td>Sunday</td>\n",
       "      <td>17</td>\n",
       "      <td>6</td>\n",
       "      <td>6_Sunday</td>\n",
       "    </tr>\n",
       "    <tr>\n",
       "      <th>2018-09-13 19:00:00+03:00</th>\n",
       "      <td>0</td>\n",
       "      <td>Thursday</td>\n",
       "      <td>19</td>\n",
       "      <td>3</td>\n",
       "      <td>3_Thursday</td>\n",
       "    </tr>\n",
       "    <tr>\n",
       "      <th>2018-09-19 14:00:00+03:00</th>\n",
       "      <td>0</td>\n",
       "      <td>Wednesday</td>\n",
       "      <td>14</td>\n",
       "      <td>2</td>\n",
       "      <td>2_Wednesday</td>\n",
       "    </tr>\n",
       "  </tbody>\n",
       "</table>\n",
       "</div>"
      ],
      "text/plain": [
       "                           welder_is_on   day_name  hour  day_index  \\\n",
       "time_local                                                            \n",
       "2018-09-17 13:00:00+03:00             0     Monday    13          0   \n",
       "2018-09-15 06:00:00+03:00             0   Saturday     6          5   \n",
       "2018-09-09 17:00:00+03:00             0     Sunday    17          6   \n",
       "2018-09-13 19:00:00+03:00             0   Thursday    19          3   \n",
       "2018-09-19 14:00:00+03:00             0  Wednesday    14          2   \n",
       "\n",
       "                                   day  \n",
       "time_local                              \n",
       "2018-09-17 13:00:00+03:00     0_Monday  \n",
       "2018-09-15 06:00:00+03:00   5_Saturday  \n",
       "2018-09-09 17:00:00+03:00     6_Sunday  \n",
       "2018-09-13 19:00:00+03:00   3_Thursday  \n",
       "2018-09-19 14:00:00+03:00  2_Wednesday  "
      ]
     },
     "execution_count": 169,
     "metadata": {},
     "output_type": "execute_result"
    }
   ],
   "source": [
    "# for day_index in day_range:\n",
    "#     df_day = df[df['day_index'] == day_index]\n",
    "#     df_day_hour_0 = df_day[df_day['hour'] == 10]  # put in double loop\n",
    "    \n",
    "    # TODO: \n",
    "    # 1. Create the key: sat_10\n",
    "    # 2. Get the array or Series from this query: df_day[df_day['hour'] == hour_index && df_day['day_index'] == day_index]\n",
    "    # 3. Concat array onto a dict \n",
    "    # k = shorten_day_name(df_day_hour_0[\"day_name\"])\n",
    "    # print(\"k\", k)\n",
    "    # print(df_day)\n",
    "    # print(df_day_hour_0['day_name'])\n",
    "    # print('____________________\\n', df_day_hour_0['welder_is_on'])\n",
    "    \n",
    "df.sample(5)"
   ]
  },
  {
   "cell_type": "code",
   "execution_count": null,
   "metadata": {},
   "outputs": [],
   "source": [
    "# There are more efficient was of generating this but this is simple to understand\n",
    "# and performance isn't important in this notebook\n",
    "\n",
    "for index, row in df.iterrows():\n",
    "    print(index, row['welder_is_on'], row['day_name'])"
   ]
  },
  {
   "cell_type": "code",
   "execution_count": 117,
   "metadata": {},
   "outputs": [],
   "source": [
    "# def load_profile_gen(df):\n",
    "#     dict = {}\n",
    "#     for k, v in df:\n",
    "#         dict[k] = [dictionary[k][column_name] for column_name in df]\n",
    "        \n",
    "# load_profile_gen(df)\n",
    "# itterows\n",
    "# for index, row in df.iterrows():\n",
    "#     print(index, row['welder_is_on'], row['day_name'])"
   ]
  },
  {
   "cell_type": "code",
   "execution_count": null,
   "metadata": {},
   "outputs": [],
   "source": []
  },
  {
   "cell_type": "code",
   "execution_count": null,
   "metadata": {},
   "outputs": [],
   "source": []
  }
 ],
 "metadata": {
  "kernelspec": {
   "display_name": "Python 3",
   "language": "python",
   "name": "python3"
  },
  "language_info": {
   "codemirror_mode": {
    "name": "ipython",
    "version": 3
   },
   "file_extension": ".py",
   "mimetype": "text/x-python",
   "name": "python",
   "nbconvert_exporter": "python",
   "pygments_lexer": "ipython3",
   "version": "3.6.4"
  }
 },
 "nbformat": 4,
 "nbformat_minor": 2
}
