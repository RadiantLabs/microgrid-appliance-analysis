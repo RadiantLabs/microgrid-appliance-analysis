{
 "cells": [
  {
   "cell_type": "code",
   "execution_count": 482,
   "metadata": {},
   "outputs": [],
   "source": [
    "# Reset all variables so that we can 'run all cells' and not get unused variables hanging around\n",
    "%reset -f"
   ]
  },
  {
   "cell_type": "code",
   "execution_count": 483,
   "metadata": {},
   "outputs": [],
   "source": [
    "import pandas as pd\n",
    "import numpy as np\n",
    "from pivottablejs import pivot_ui\n",
    "import random\n",
    "import json\n",
    "from collections import defaultdict\n",
    "from functools import partial"
   ]
  },
  {
   "cell_type": "code",
   "execution_count": 484,
   "metadata": {
    "scrolled": true
   },
   "outputs": [
    {
     "data": {
      "text/html": [
       "<div>\n",
       "<style scoped>\n",
       "    .dataframe tbody tr th:only-of-type {\n",
       "        vertical-align: middle;\n",
       "    }\n",
       "\n",
       "    .dataframe tbody tr th {\n",
       "        vertical-align: top;\n",
       "    }\n",
       "\n",
       "    .dataframe thead th {\n",
       "        text-align: right;\n",
       "    }\n",
       "</style>\n",
       "<table border=\"1\" class=\"dataframe\">\n",
       "  <thead>\n",
       "    <tr style=\"text-align: right;\">\n",
       "      <th></th>\n",
       "      <th>welder_is_on</th>\n",
       "      <th>day_name</th>\n",
       "      <th>hour</th>\n",
       "      <th>day_index</th>\n",
       "      <th>day</th>\n",
       "    </tr>\n",
       "    <tr>\n",
       "      <th>time_local</th>\n",
       "      <th></th>\n",
       "      <th></th>\n",
       "      <th></th>\n",
       "      <th></th>\n",
       "      <th></th>\n",
       "    </tr>\n",
       "  </thead>\n",
       "  <tbody>\n",
       "    <tr>\n",
       "      <th>2018-09-11 02:00:00+03:00</th>\n",
       "      <td>0</td>\n",
       "      <td>Tuesday</td>\n",
       "      <td>2</td>\n",
       "      <td>1</td>\n",
       "      <td>1_Tuesday</td>\n",
       "    </tr>\n",
       "    <tr>\n",
       "      <th>2018-09-16 21:00:00+03:00</th>\n",
       "      <td>0</td>\n",
       "      <td>Sunday</td>\n",
       "      <td>21</td>\n",
       "      <td>6</td>\n",
       "      <td>6_Sunday</td>\n",
       "    </tr>\n",
       "    <tr>\n",
       "      <th>2018-09-18 18:00:00+03:00</th>\n",
       "      <td>0</td>\n",
       "      <td>Tuesday</td>\n",
       "      <td>18</td>\n",
       "      <td>1</td>\n",
       "      <td>1_Tuesday</td>\n",
       "    </tr>\n",
       "    <tr>\n",
       "      <th>2018-09-11 12:00:00+03:00</th>\n",
       "      <td>0</td>\n",
       "      <td>Tuesday</td>\n",
       "      <td>12</td>\n",
       "      <td>1</td>\n",
       "      <td>1_Tuesday</td>\n",
       "    </tr>\n",
       "    <tr>\n",
       "      <th>2018-09-08 23:00:00+03:00</th>\n",
       "      <td>0</td>\n",
       "      <td>Saturday</td>\n",
       "      <td>23</td>\n",
       "      <td>5</td>\n",
       "      <td>5_Saturday</td>\n",
       "    </tr>\n",
       "    <tr>\n",
       "      <th>2018-09-19 17:00:00+03:00</th>\n",
       "      <td>0</td>\n",
       "      <td>Wednesday</td>\n",
       "      <td>17</td>\n",
       "      <td>2</td>\n",
       "      <td>2_Wednesday</td>\n",
       "    </tr>\n",
       "    <tr>\n",
       "      <th>2018-09-11 01:00:00+03:00</th>\n",
       "      <td>0</td>\n",
       "      <td>Tuesday</td>\n",
       "      <td>1</td>\n",
       "      <td>1</td>\n",
       "      <td>1_Tuesday</td>\n",
       "    </tr>\n",
       "    <tr>\n",
       "      <th>2018-09-14 09:00:00+03:00</th>\n",
       "      <td>5</td>\n",
       "      <td>Friday</td>\n",
       "      <td>9</td>\n",
       "      <td>4</td>\n",
       "      <td>4_Friday</td>\n",
       "    </tr>\n",
       "    <tr>\n",
       "      <th>2018-09-11 06:00:00+03:00</th>\n",
       "      <td>0</td>\n",
       "      <td>Tuesday</td>\n",
       "      <td>6</td>\n",
       "      <td>1</td>\n",
       "      <td>1_Tuesday</td>\n",
       "    </tr>\n",
       "    <tr>\n",
       "      <th>2018-09-10 20:00:00+03:00</th>\n",
       "      <td>0</td>\n",
       "      <td>Monday</td>\n",
       "      <td>20</td>\n",
       "      <td>0</td>\n",
       "      <td>0_Monday</td>\n",
       "    </tr>\n",
       "  </tbody>\n",
       "</table>\n",
       "</div>"
      ],
      "text/plain": [
       "                           welder_is_on   day_name  hour  day_index  \\\n",
       "time_local                                                            \n",
       "2018-09-11 02:00:00+03:00             0    Tuesday     2          1   \n",
       "2018-09-16 21:00:00+03:00             0     Sunday    21          6   \n",
       "2018-09-18 18:00:00+03:00             0    Tuesday    18          1   \n",
       "2018-09-11 12:00:00+03:00             0    Tuesday    12          1   \n",
       "2018-09-08 23:00:00+03:00             0   Saturday    23          5   \n",
       "2018-09-19 17:00:00+03:00             0  Wednesday    17          2   \n",
       "2018-09-11 01:00:00+03:00             0    Tuesday     1          1   \n",
       "2018-09-14 09:00:00+03:00             5     Friday     9          4   \n",
       "2018-09-11 06:00:00+03:00             0    Tuesday     6          1   \n",
       "2018-09-10 20:00:00+03:00             0     Monday    20          0   \n",
       "\n",
       "                                   day  \n",
       "time_local                              \n",
       "2018-09-11 02:00:00+03:00    1_Tuesday  \n",
       "2018-09-16 21:00:00+03:00     6_Sunday  \n",
       "2018-09-18 18:00:00+03:00    1_Tuesday  \n",
       "2018-09-11 12:00:00+03:00    1_Tuesday  \n",
       "2018-09-08 23:00:00+03:00   5_Saturday  \n",
       "2018-09-19 17:00:00+03:00  2_Wednesday  \n",
       "2018-09-11 01:00:00+03:00    1_Tuesday  \n",
       "2018-09-14 09:00:00+03:00     4_Friday  \n",
       "2018-09-11 06:00:00+03:00    1_Tuesday  \n",
       "2018-09-10 20:00:00+03:00     0_Monday  "
      ]
     },
     "execution_count": 484,
     "metadata": {},
     "output_type": "execute_result"
    }
   ],
   "source": [
    "df = pd.read_csv(\"data/welder_time_local.csv\").set_index('time_local')\n",
    "df.sample(10)"
   ]
  },
  {
   "cell_type": "code",
   "execution_count": 485,
   "metadata": {
    "scrolled": false
   },
   "outputs": [
    {
     "data": {
      "text/html": [
       "\n",
       "        <iframe\n",
       "            width=\"100%\"\n",
       "            height=\"500\"\n",
       "            src=\"pivottablejs.html\"\n",
       "            frameborder=\"0\"\n",
       "            allowfullscreen\n",
       "        ></iframe>\n",
       "        "
      ],
      "text/plain": [
       "<IPython.lib.display.IFrame at 0x1145744e0>"
      ]
     },
     "execution_count": 485,
     "metadata": {},
     "output_type": "execute_result"
    }
   ],
   "source": [
    "# To come up with the config options, use this example to output the config: \n",
    "# https://pivottable.js.org/examples/onrefresh.html\n",
    "pivot_ui(df, \n",
    "         rows=['day'],\n",
    "         cols=['hour'],\n",
    "         rendererName=\"Table Barchart\",\n",
    "         aggregatorName=\"Average\",\n",
    "         vals=[\"welder_is_on\"])"
   ]
  },
  {
   "cell_type": "code",
   "execution_count": 486,
   "metadata": {},
   "outputs": [
    {
     "data": {
      "text/html": [
       "\n",
       "        <iframe\n",
       "            width=\"100%\"\n",
       "            height=\"500\"\n",
       "            src=\"pivottablejs.html\"\n",
       "            frameborder=\"0\"\n",
       "            allowfullscreen\n",
       "        ></iframe>\n",
       "        "
      ],
      "text/plain": [
       "<IPython.lib.display.IFrame at 0x10ecc4390>"
      ]
     },
     "execution_count": 486,
     "metadata": {},
     "output_type": "execute_result"
    }
   ],
   "source": [
    "pivot_ui(df, \n",
    "         rows=['day'],\n",
    "         cols=['hour'],\n",
    "         rendererName=\"Table Barchart\",\n",
    "         aggregatorName=\"Sum over Sum\",\n",
    "         vals=[\"welder_is_on\", \"hour\"])"
   ]
  },
  {
   "cell_type": "markdown",
   "metadata": {},
   "source": [
    "## Example functions for next section:"
   ]
  },
  {
   "cell_type": "code",
   "execution_count": 487,
   "metadata": {},
   "outputs": [
    {
     "data": {
      "text/plain": [
       "7"
      ]
     },
     "execution_count": 487,
     "metadata": {},
     "output_type": "execute_result"
    }
   ],
   "source": [
    "measured = [1, 2, 3, 4, 5, 6, 7, 8, 9, 10]\n",
    "s1 = random.choice(measured)\n",
    "s1"
   ]
  },
  {
   "cell_type": "code",
   "execution_count": 488,
   "metadata": {},
   "outputs": [
    {
     "data": {
      "text/html": [
       "<div>\n",
       "<style scoped>\n",
       "    .dataframe tbody tr th:only-of-type {\n",
       "        vertical-align: middle;\n",
       "    }\n",
       "\n",
       "    .dataframe tbody tr th {\n",
       "        vertical-align: top;\n",
       "    }\n",
       "\n",
       "    .dataframe thead th {\n",
       "        text-align: right;\n",
       "    }\n",
       "</style>\n",
       "<table border=\"1\" class=\"dataframe\">\n",
       "  <thead>\n",
       "    <tr style=\"text-align: right;\">\n",
       "      <th></th>\n",
       "      <th>welder_is_on</th>\n",
       "      <th>day_name</th>\n",
       "      <th>hour</th>\n",
       "      <th>day_index</th>\n",
       "      <th>day</th>\n",
       "    </tr>\n",
       "    <tr>\n",
       "      <th>time_local</th>\n",
       "      <th></th>\n",
       "      <th></th>\n",
       "      <th></th>\n",
       "      <th></th>\n",
       "      <th></th>\n",
       "    </tr>\n",
       "  </thead>\n",
       "  <tbody>\n",
       "    <tr>\n",
       "      <th>2018-09-10 09:00:00+03:00</th>\n",
       "      <td>0</td>\n",
       "      <td>Monday</td>\n",
       "      <td>9</td>\n",
       "      <td>0</td>\n",
       "      <td>0_Monday</td>\n",
       "    </tr>\n",
       "    <tr>\n",
       "      <th>2018-09-17 02:00:00+03:00</th>\n",
       "      <td>0</td>\n",
       "      <td>Monday</td>\n",
       "      <td>2</td>\n",
       "      <td>0</td>\n",
       "      <td>0_Monday</td>\n",
       "    </tr>\n",
       "    <tr>\n",
       "      <th>2018-09-17 04:00:00+03:00</th>\n",
       "      <td>0</td>\n",
       "      <td>Monday</td>\n",
       "      <td>4</td>\n",
       "      <td>0</td>\n",
       "      <td>0_Monday</td>\n",
       "    </tr>\n",
       "  </tbody>\n",
       "</table>\n",
       "</div>"
      ],
      "text/plain": [
       "                           welder_is_on day_name  hour  day_index       day\n",
       "time_local                                                                 \n",
       "2018-09-10 09:00:00+03:00             0   Monday     9          0  0_Monday\n",
       "2018-09-17 02:00:00+03:00             0   Monday     2          0  0_Monday\n",
       "2018-09-17 04:00:00+03:00             0   Monday     4          0  0_Monday"
      ]
     },
     "execution_count": 488,
     "metadata": {},
     "output_type": "execute_result"
    }
   ],
   "source": [
    "df[df['day_name'] == 'Monday'].sample(3)"
   ]
  },
  {
   "cell_type": "markdown",
   "metadata": {},
   "source": [
    "## Create dataset for the load profile generator\n",
    "\n",
    "Take a sample of every hour of every weekday: So for example:\n",
    "\n",
    "```\n",
    "measured_usage = {\n",
    "  fri_09: [0, 1, 0, 3, 0, 1, 1]     # Friday @ 9am\n",
    "  sat_10: [0, 0, 1, 30, 10, 0, 2]   # Saturday @ 10am\n",
    "  ...\n",
    "}\n",
    "\n",
    "```"
   ]
  },
  {
   "cell_type": "code",
   "execution_count": 489,
   "metadata": {},
   "outputs": [],
   "source": [
    "day_range = range(7)\n",
    "hour_range = range(25)"
   ]
  },
  {
   "cell_type": "code",
   "execution_count": 490,
   "metadata": {},
   "outputs": [
    {
     "data": {
      "text/html": [
       "<div>\n",
       "<style scoped>\n",
       "    .dataframe tbody tr th:only-of-type {\n",
       "        vertical-align: middle;\n",
       "    }\n",
       "\n",
       "    .dataframe tbody tr th {\n",
       "        vertical-align: top;\n",
       "    }\n",
       "\n",
       "    .dataframe thead th {\n",
       "        text-align: right;\n",
       "    }\n",
       "</style>\n",
       "<table border=\"1\" class=\"dataframe\">\n",
       "  <thead>\n",
       "    <tr style=\"text-align: right;\">\n",
       "      <th></th>\n",
       "      <th>welder_is_on</th>\n",
       "      <th>day_name</th>\n",
       "      <th>hour</th>\n",
       "      <th>day_index</th>\n",
       "      <th>day</th>\n",
       "    </tr>\n",
       "    <tr>\n",
       "      <th>time_local</th>\n",
       "      <th></th>\n",
       "      <th></th>\n",
       "      <th></th>\n",
       "      <th></th>\n",
       "      <th></th>\n",
       "    </tr>\n",
       "  </thead>\n",
       "  <tbody>\n",
       "    <tr>\n",
       "      <th>2018-09-16 07:00:00+03:00</th>\n",
       "      <td>0</td>\n",
       "      <td>Sunday</td>\n",
       "      <td>7</td>\n",
       "      <td>6</td>\n",
       "      <td>6_Sunday</td>\n",
       "    </tr>\n",
       "    <tr>\n",
       "      <th>2018-09-10 00:00:00+03:00</th>\n",
       "      <td>0</td>\n",
       "      <td>Monday</td>\n",
       "      <td>0</td>\n",
       "      <td>0</td>\n",
       "      <td>0_Monday</td>\n",
       "    </tr>\n",
       "    <tr>\n",
       "      <th>2018-09-13 15:00:00+03:00</th>\n",
       "      <td>0</td>\n",
       "      <td>Thursday</td>\n",
       "      <td>15</td>\n",
       "      <td>3</td>\n",
       "      <td>3_Thursday</td>\n",
       "    </tr>\n",
       "    <tr>\n",
       "      <th>2018-09-17 06:00:00+03:00</th>\n",
       "      <td>0</td>\n",
       "      <td>Monday</td>\n",
       "      <td>6</td>\n",
       "      <td>0</td>\n",
       "      <td>0_Monday</td>\n",
       "    </tr>\n",
       "    <tr>\n",
       "      <th>2018-09-18 01:00:00+03:00</th>\n",
       "      <td>0</td>\n",
       "      <td>Tuesday</td>\n",
       "      <td>1</td>\n",
       "      <td>1</td>\n",
       "      <td>1_Tuesday</td>\n",
       "    </tr>\n",
       "  </tbody>\n",
       "</table>\n",
       "</div>"
      ],
      "text/plain": [
       "                           welder_is_on  day_name  hour  day_index         day\n",
       "time_local                                                                    \n",
       "2018-09-16 07:00:00+03:00             0    Sunday     7          6    6_Sunday\n",
       "2018-09-10 00:00:00+03:00             0    Monday     0          0    0_Monday\n",
       "2018-09-13 15:00:00+03:00             0  Thursday    15          3  3_Thursday\n",
       "2018-09-17 06:00:00+03:00             0    Monday     6          0    0_Monday\n",
       "2018-09-18 01:00:00+03:00             0   Tuesday     1          1   1_Tuesday"
      ]
     },
     "execution_count": 490,
     "metadata": {},
     "output_type": "execute_result"
    }
   ],
   "source": [
    "df.sample(5)"
   ]
  },
  {
   "cell_type": "code",
   "execution_count": 491,
   "metadata": {},
   "outputs": [],
   "source": [
    "# Shortens a day name to the first 3 letters (Saturday => sat)\n",
    "def shorten_day_name(day_string):\n",
    "    return day_string[0:3].lower()\n",
    "\n",
    "# Python allows tuples as dict keys. For example: (\"Saturday\" 10): [0, 0, 2, 4, 0]\n",
    "# But this data structure will be exported to JSON, which only allows string keys. \n",
    "# So the key generated by this function will look like this: \"sat_10\": [0, 0, 2, 4, 0]\n",
    "def composite_key(day_name, hour):\n",
    "    padded_hour = str(hour).zfill(2)\n",
    "    return \"{}_{}\".format(shorten_day_name(day_name), padded_hour)"
   ]
  },
  {
   "cell_type": "code",
   "execution_count": 498,
   "metadata": {},
   "outputs": [],
   "source": [
    "# TODO: document this function\n",
    "def create_usage_profile_data(df):\n",
    "    dict = defaultdict(list)\n",
    "    for index, row in df.iterrows():\n",
    "        key = composite_key(row['day_name'], row['hour'])\n",
    "        dict[key].append(row['welder_is_on'])\n",
    "    return dict\n",
    "\n",
    "measured_usage = create_usage_profile_data(df)\n",
    "# measured_usage"
   ]
  },
  {
   "cell_type": "code",
   "execution_count": 493,
   "metadata": {},
   "outputs": [
    {
     "data": {
      "text/plain": [
       "True"
      ]
     },
     "execution_count": 493,
     "metadata": {},
     "output_type": "execute_result"
    }
   ],
   "source": [
    "# Make sure there is a key for every hour of every day of the week  \n",
    "# represented: (7x24 = 168) \n",
    "len(measured_usage) == 7*24"
   ]
  },
  {
   "cell_type": "code",
   "execution_count": 494,
   "metadata": {},
   "outputs": [],
   "source": [
    "# This dataset is everything the web app needs to generate a 52-week\n",
    "# usage profile based on sampling (more on that below). \n",
    "# Output to JSON so it can be imported into the app\n",
    "with open('data/welder_usage_generator_data.json', 'w') as fp:\n",
    "    json.dump(measured_usage, fp)"
   ]
  },
  {
   "cell_type": "markdown",
   "metadata": {},
   "source": [
    "## Create Usage Profile Generator\n",
    "Day 1 of the year (Sat @ 10am): sample(measured_usage.sat_10)\n",
    "\n",
    "Day 2 of the year (Frid @ 9am): sample(measured_usage.sat_10)\n",
    "\n",
    "Check: see if the sum, avg and std roughly matches the measured values"
   ]
  },
  {
   "cell_type": "code",
   "execution_count": 495,
   "metadata": {},
   "outputs": [
    {
     "data": {
      "text/html": [
       "<div>\n",
       "<style scoped>\n",
       "    .dataframe tbody tr th:only-of-type {\n",
       "        vertical-align: middle;\n",
       "    }\n",
       "\n",
       "    .dataframe tbody tr th {\n",
       "        vertical-align: top;\n",
       "    }\n",
       "\n",
       "    .dataframe thead th {\n",
       "        text-align: right;\n",
       "    }\n",
       "</style>\n",
       "<table border=\"1\" class=\"dataframe\">\n",
       "  <thead>\n",
       "    <tr style=\"text-align: right;\">\n",
       "      <th></th>\n",
       "      <th>hour_of_year</th>\n",
       "      <th>day_name</th>\n",
       "      <th>hour_of_day</th>\n",
       "    </tr>\n",
       "  </thead>\n",
       "  <tbody>\n",
       "    <tr>\n",
       "      <th>2018-05-16 01:00:00</th>\n",
       "      <td>3241</td>\n",
       "      <td>Wednesday</td>\n",
       "      <td>1</td>\n",
       "    </tr>\n",
       "    <tr>\n",
       "      <th>2018-12-14 13:00:00</th>\n",
       "      <td>8341</td>\n",
       "      <td>Friday</td>\n",
       "      <td>13</td>\n",
       "    </tr>\n",
       "    <tr>\n",
       "      <th>2018-05-19 13:00:00</th>\n",
       "      <td>3325</td>\n",
       "      <td>Saturday</td>\n",
       "      <td>13</td>\n",
       "    </tr>\n",
       "    <tr>\n",
       "      <th>2018-06-28 09:00:00</th>\n",
       "      <td>4281</td>\n",
       "      <td>Thursday</td>\n",
       "      <td>9</td>\n",
       "    </tr>\n",
       "    <tr>\n",
       "      <th>2018-03-31 18:00:00</th>\n",
       "      <td>2154</td>\n",
       "      <td>Saturday</td>\n",
       "      <td>18</td>\n",
       "    </tr>\n",
       "  </tbody>\n",
       "</table>\n",
       "</div>"
      ],
      "text/plain": [
       "                     hour_of_year   day_name  hour_of_day\n",
       "2018-05-16 01:00:00          3241  Wednesday            1\n",
       "2018-12-14 13:00:00          8341     Friday           13\n",
       "2018-05-19 13:00:00          3325   Saturday           13\n",
       "2018-06-28 09:00:00          4281   Thursday            9\n",
       "2018-03-31 18:00:00          2154   Saturday           18"
      ]
     },
     "execution_count": 495,
     "metadata": {},
     "output_type": "execute_result"
    }
   ],
   "source": [
    "# TODO: document \n",
    "def create_year_range_df(year=2018):\n",
    "    start_date_str = '1/1/{}'.format(year + 1)\n",
    "    start_date = pd.to_datetime(start_date_str) - pd.Timedelta(days=365)\n",
    "    hourly_periods = 8760\n",
    "    date_range = pd.date_range(start_date, periods=hourly_periods, freq='H')\n",
    "    year_hours = list(range(len(date_range)))\n",
    "    df_year = pd.DataFrame({\"hour_of_year\": year_hours}, index=date_range)\n",
    "    \n",
    "    # Now add day of week and hour of day columns\n",
    "    df_year['day_name'] = df_year.index.day_name()\n",
    "    df_year['hour_of_day'] = df_year.index.hour\n",
    "    return df_year\n",
    "\n",
    "df_year = create_year_range_df()\n",
    "df_year.sample(5)"
   ]
  },
  {
   "cell_type": "code",
   "execution_count": 504,
   "metadata": {},
   "outputs": [
    {
     "data": {
      "text/plain": [
       "3"
      ]
     },
     "execution_count": 504,
     "metadata": {},
     "output_type": "execute_result"
    }
   ],
   "source": [
    "random.choice([1, 2, 3])"
   ]
  },
  {
   "cell_type": "code",
   "execution_count": 508,
   "metadata": {},
   "outputs": [
    {
     "data": {
      "text/html": [
       "<div>\n",
       "<style scoped>\n",
       "    .dataframe tbody tr th:only-of-type {\n",
       "        vertical-align: middle;\n",
       "    }\n",
       "\n",
       "    .dataframe tbody tr th {\n",
       "        vertical-align: top;\n",
       "    }\n",
       "\n",
       "    .dataframe thead th {\n",
       "        text-align: right;\n",
       "    }\n",
       "</style>\n",
       "<table border=\"1\" class=\"dataframe\">\n",
       "  <thead>\n",
       "    <tr style=\"text-align: right;\">\n",
       "      <th></th>\n",
       "      <th>hour_of_year</th>\n",
       "      <th>day_name</th>\n",
       "      <th>hour_of_day</th>\n",
       "      <th>welder</th>\n",
       "    </tr>\n",
       "  </thead>\n",
       "  <tbody>\n",
       "    <tr>\n",
       "      <th>2018-01-01 00:00:00</th>\n",
       "      <td>0</td>\n",
       "      <td>Monday</td>\n",
       "      <td>0</td>\n",
       "      <td>0</td>\n",
       "    </tr>\n",
       "    <tr>\n",
       "      <th>2018-01-01 01:00:00</th>\n",
       "      <td>1</td>\n",
       "      <td>Monday</td>\n",
       "      <td>1</td>\n",
       "      <td>0</td>\n",
       "    </tr>\n",
       "    <tr>\n",
       "      <th>2018-01-01 02:00:00</th>\n",
       "      <td>2</td>\n",
       "      <td>Monday</td>\n",
       "      <td>2</td>\n",
       "      <td>0</td>\n",
       "    </tr>\n",
       "    <tr>\n",
       "      <th>2018-01-01 03:00:00</th>\n",
       "      <td>3</td>\n",
       "      <td>Monday</td>\n",
       "      <td>3</td>\n",
       "      <td>1</td>\n",
       "    </tr>\n",
       "    <tr>\n",
       "      <th>2018-01-01 04:00:00</th>\n",
       "      <td>4</td>\n",
       "      <td>Monday</td>\n",
       "      <td>4</td>\n",
       "      <td>0</td>\n",
       "    </tr>\n",
       "    <tr>\n",
       "      <th>2018-01-01 05:00:00</th>\n",
       "      <td>5</td>\n",
       "      <td>Monday</td>\n",
       "      <td>5</td>\n",
       "      <td>0</td>\n",
       "    </tr>\n",
       "    <tr>\n",
       "      <th>2018-01-01 06:00:00</th>\n",
       "      <td>6</td>\n",
       "      <td>Monday</td>\n",
       "      <td>6</td>\n",
       "      <td>0</td>\n",
       "    </tr>\n",
       "    <tr>\n",
       "      <th>2018-01-01 07:00:00</th>\n",
       "      <td>7</td>\n",
       "      <td>Monday</td>\n",
       "      <td>7</td>\n",
       "      <td>0</td>\n",
       "    </tr>\n",
       "    <tr>\n",
       "      <th>2018-01-01 08:00:00</th>\n",
       "      <td>8</td>\n",
       "      <td>Monday</td>\n",
       "      <td>8</td>\n",
       "      <td>0</td>\n",
       "    </tr>\n",
       "    <tr>\n",
       "      <th>2018-01-01 09:00:00</th>\n",
       "      <td>9</td>\n",
       "      <td>Monday</td>\n",
       "      <td>9</td>\n",
       "      <td>8</td>\n",
       "    </tr>\n",
       "    <tr>\n",
       "      <th>2018-01-01 10:00:00</th>\n",
       "      <td>10</td>\n",
       "      <td>Monday</td>\n",
       "      <td>10</td>\n",
       "      <td>0</td>\n",
       "    </tr>\n",
       "    <tr>\n",
       "      <th>2018-01-01 11:00:00</th>\n",
       "      <td>11</td>\n",
       "      <td>Monday</td>\n",
       "      <td>11</td>\n",
       "      <td>0</td>\n",
       "    </tr>\n",
       "    <tr>\n",
       "      <th>2018-01-01 12:00:00</th>\n",
       "      <td>12</td>\n",
       "      <td>Monday</td>\n",
       "      <td>12</td>\n",
       "      <td>0</td>\n",
       "    </tr>\n",
       "    <tr>\n",
       "      <th>2018-01-01 13:00:00</th>\n",
       "      <td>13</td>\n",
       "      <td>Monday</td>\n",
       "      <td>13</td>\n",
       "      <td>0</td>\n",
       "    </tr>\n",
       "    <tr>\n",
       "      <th>2018-01-01 14:00:00</th>\n",
       "      <td>14</td>\n",
       "      <td>Monday</td>\n",
       "      <td>14</td>\n",
       "      <td>0</td>\n",
       "    </tr>\n",
       "    <tr>\n",
       "      <th>2018-01-01 15:00:00</th>\n",
       "      <td>15</td>\n",
       "      <td>Monday</td>\n",
       "      <td>15</td>\n",
       "      <td>0</td>\n",
       "    </tr>\n",
       "    <tr>\n",
       "      <th>2018-01-01 16:00:00</th>\n",
       "      <td>16</td>\n",
       "      <td>Monday</td>\n",
       "      <td>16</td>\n",
       "      <td>0</td>\n",
       "    </tr>\n",
       "    <tr>\n",
       "      <th>2018-01-01 17:00:00</th>\n",
       "      <td>17</td>\n",
       "      <td>Monday</td>\n",
       "      <td>17</td>\n",
       "      <td>0</td>\n",
       "    </tr>\n",
       "    <tr>\n",
       "      <th>2018-01-01 18:00:00</th>\n",
       "      <td>18</td>\n",
       "      <td>Monday</td>\n",
       "      <td>18</td>\n",
       "      <td>0</td>\n",
       "    </tr>\n",
       "    <tr>\n",
       "      <th>2018-01-01 19:00:00</th>\n",
       "      <td>19</td>\n",
       "      <td>Monday</td>\n",
       "      <td>19</td>\n",
       "      <td>0</td>\n",
       "    </tr>\n",
       "  </tbody>\n",
       "</table>\n",
       "</div>"
      ],
      "text/plain": [
       "                     hour_of_year day_name  hour_of_day  welder\n",
       "2018-01-01 00:00:00             0   Monday            0       0\n",
       "2018-01-01 01:00:00             1   Monday            1       0\n",
       "2018-01-01 02:00:00             2   Monday            2       0\n",
       "2018-01-01 03:00:00             3   Monday            3       1\n",
       "2018-01-01 04:00:00             4   Monday            4       0\n",
       "2018-01-01 05:00:00             5   Monday            5       0\n",
       "2018-01-01 06:00:00             6   Monday            6       0\n",
       "2018-01-01 07:00:00             7   Monday            7       0\n",
       "2018-01-01 08:00:00             8   Monday            8       0\n",
       "2018-01-01 09:00:00             9   Monday            9       8\n",
       "2018-01-01 10:00:00            10   Monday           10       0\n",
       "2018-01-01 11:00:00            11   Monday           11       0\n",
       "2018-01-01 12:00:00            12   Monday           12       0\n",
       "2018-01-01 13:00:00            13   Monday           13       0\n",
       "2018-01-01 14:00:00            14   Monday           14       0\n",
       "2018-01-01 15:00:00            15   Monday           15       0\n",
       "2018-01-01 16:00:00            16   Monday           16       0\n",
       "2018-01-01 17:00:00            17   Monday           17       0\n",
       "2018-01-01 18:00:00            18   Monday           18       0\n",
       "2018-01-01 19:00:00            19   Monday           19       0"
      ]
     },
     "execution_count": 508,
     "metadata": {},
     "output_type": "execute_result"
    }
   ],
   "source": [
    "# TODO: (Problem)\n",
    "# Using random.choice on a list of length 1 will always return the single value\n",
    "# If there is only a single measured value in the list, it will always pick that one, \n",
    "# which is likely overrepresenting usage\n",
    "# Options:\n",
    "# 1. Always pad a list with a zero if there is only 1 value (this can be done easily in sample_usage())\n",
    "# 2. Sample across multiple hours or days if there is only 1 value\n",
    "# 3. Sample across multiple hours or days if the measured samples are below ~5-10\n",
    "# 4. Always sample across multiple hours or days\n",
    "def sample_usage(measured_usage, row):\n",
    "    key = composite_key(row['day_name'], row['hour_of_day'])\n",
    "    return random.choice(measured_usage[key])\n",
    "    \n",
    "# measured_usage[composite_key(row['day_name'], row['hour_of_day'])][0]\n",
    "def generate_usage_profile(measured_usage, year=2018):\n",
    "    df = create_year_range_df(year)\n",
    "    df['welder'] = df.apply(partial(sample_usage, measured_usage), axis=1) \n",
    "    return df\n",
    "\n",
    "df_usage_profile = generate_usage_profile(measured_usage)\n",
    "df_usage_profile.head(20)"
   ]
  },
  {
   "cell_type": "code",
   "execution_count": 506,
   "metadata": {},
   "outputs": [
    {
     "data": {
      "text/html": [
       "\n",
       "        <iframe\n",
       "            width=\"100%\"\n",
       "            height=\"500\"\n",
       "            src=\"pivottablejs.html\"\n",
       "            frameborder=\"0\"\n",
       "            allowfullscreen\n",
       "        ></iframe>\n",
       "        "
      ],
      "text/plain": [
       "<IPython.lib.display.IFrame at 0x1144bd550>"
      ]
     },
     "execution_count": 506,
     "metadata": {},
     "output_type": "execute_result"
    }
   ],
   "source": [
    "pivot_ui(df_usage_profile, \n",
    "         rows=['day_name', 'hour_of_day'],\n",
    "         cols=['welder'],\n",
    "         rendererName=\"Table\",\n",
    "         aggregatorName=\"Count\")"
   ]
  },
  {
   "cell_type": "code",
   "execution_count": null,
   "metadata": {},
   "outputs": [],
   "source": []
  }
 ],
 "metadata": {
  "kernelspec": {
   "display_name": "Python 3",
   "language": "python",
   "name": "python3"
  },
  "language_info": {
   "codemirror_mode": {
    "name": "ipython",
    "version": 3
   },
   "file_extension": ".py",
   "mimetype": "text/x-python",
   "name": "python",
   "nbconvert_exporter": "python",
   "pygments_lexer": "ipython3",
   "version": "3.6.4"
  }
 },
 "nbformat": 4,
 "nbformat_minor": 2
}
