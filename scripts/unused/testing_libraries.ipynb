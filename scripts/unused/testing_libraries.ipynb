{
 "cells": [
  {
   "cell_type": "code",
   "execution_count": 9,
   "metadata": {},
   "outputs": [],
   "source": [
    "# Reset all variables so that we can 'run all cells' and not get unused variables hanging around\n",
    "%reset -f"
   ]
  },
  {
   "cell_type": "code",
   "execution_count": 10,
   "metadata": {},
   "outputs": [],
   "source": [
    "import pandas as pd\n",
    "import numpy as np\n",
    "from pivottablejs import pivot_ui\n",
    "import random\n",
    "import json\n",
    "from collections import defaultdict\n",
    "from functools import partial"
   ]
  },
  {
   "cell_type": "markdown",
   "metadata": {},
   "source": [
    "## Import measured usage + summary stats"
   ]
  },
  {
   "cell_type": "code",
   "execution_count": 11,
   "metadata": {
    "scrolled": true
   },
   "outputs": [
    {
     "data": {
      "text/html": [
       "<div>\n",
       "<style scoped>\n",
       "    .dataframe tbody tr th:only-of-type {\n",
       "        vertical-align: middle;\n",
       "    }\n",
       "\n",
       "    .dataframe tbody tr th {\n",
       "        vertical-align: top;\n",
       "    }\n",
       "\n",
       "    .dataframe thead th {\n",
       "        text-align: right;\n",
       "    }\n",
       "</style>\n",
       "<table border=\"1\" class=\"dataframe\">\n",
       "  <thead>\n",
       "    <tr style=\"text-align: right;\">\n",
       "      <th></th>\n",
       "      <th>welder_is_on</th>\n",
       "      <th>day_name</th>\n",
       "      <th>hour</th>\n",
       "      <th>day_index</th>\n",
       "      <th>day</th>\n",
       "    </tr>\n",
       "    <tr>\n",
       "      <th>time_local</th>\n",
       "      <th></th>\n",
       "      <th></th>\n",
       "      <th></th>\n",
       "      <th></th>\n",
       "      <th></th>\n",
       "    </tr>\n",
       "  </thead>\n",
       "  <tbody>\n",
       "    <tr>\n",
       "      <th>2018-09-13 13:00:00+03:00</th>\n",
       "      <td>0</td>\n",
       "      <td>Thursday</td>\n",
       "      <td>13</td>\n",
       "      <td>3</td>\n",
       "      <td>3_Thursday</td>\n",
       "    </tr>\n",
       "    <tr>\n",
       "      <th>2018-09-20 04:00:00+03:00</th>\n",
       "      <td>0</td>\n",
       "      <td>Thursday</td>\n",
       "      <td>4</td>\n",
       "      <td>3</td>\n",
       "      <td>3_Thursday</td>\n",
       "    </tr>\n",
       "    <tr>\n",
       "      <th>2018-09-15 18:00:00+03:00</th>\n",
       "      <td>0</td>\n",
       "      <td>Saturday</td>\n",
       "      <td>18</td>\n",
       "      <td>5</td>\n",
       "      <td>5_Saturday</td>\n",
       "    </tr>\n",
       "    <tr>\n",
       "      <th>2018-09-14 08:00:00+03:00</th>\n",
       "      <td>9</td>\n",
       "      <td>Friday</td>\n",
       "      <td>8</td>\n",
       "      <td>4</td>\n",
       "      <td>4_Friday</td>\n",
       "    </tr>\n",
       "    <tr>\n",
       "      <th>2018-09-10 12:00:00+03:00</th>\n",
       "      <td>3</td>\n",
       "      <td>Monday</td>\n",
       "      <td>12</td>\n",
       "      <td>0</td>\n",
       "      <td>0_Monday</td>\n",
       "    </tr>\n",
       "    <tr>\n",
       "      <th>2018-09-09 01:00:00+03:00</th>\n",
       "      <td>0</td>\n",
       "      <td>Sunday</td>\n",
       "      <td>1</td>\n",
       "      <td>6</td>\n",
       "      <td>6_Sunday</td>\n",
       "    </tr>\n",
       "    <tr>\n",
       "      <th>2018-09-20 19:00:00+03:00</th>\n",
       "      <td>0</td>\n",
       "      <td>Thursday</td>\n",
       "      <td>19</td>\n",
       "      <td>3</td>\n",
       "      <td>3_Thursday</td>\n",
       "    </tr>\n",
       "    <tr>\n",
       "      <th>2018-09-09 17:00:00+03:00</th>\n",
       "      <td>0</td>\n",
       "      <td>Sunday</td>\n",
       "      <td>17</td>\n",
       "      <td>6</td>\n",
       "      <td>6_Sunday</td>\n",
       "    </tr>\n",
       "    <tr>\n",
       "      <th>2018-09-09 12:00:00+03:00</th>\n",
       "      <td>0</td>\n",
       "      <td>Sunday</td>\n",
       "      <td>12</td>\n",
       "      <td>6</td>\n",
       "      <td>6_Sunday</td>\n",
       "    </tr>\n",
       "    <tr>\n",
       "      <th>2018-09-11 17:00:00+03:00</th>\n",
       "      <td>0</td>\n",
       "      <td>Tuesday</td>\n",
       "      <td>17</td>\n",
       "      <td>1</td>\n",
       "      <td>1_Tuesday</td>\n",
       "    </tr>\n",
       "  </tbody>\n",
       "</table>\n",
       "</div>"
      ],
      "text/plain": [
       "                           welder_is_on  day_name  hour  day_index         day\n",
       "time_local                                                                    \n",
       "2018-09-13 13:00:00+03:00             0  Thursday    13          3  3_Thursday\n",
       "2018-09-20 04:00:00+03:00             0  Thursday     4          3  3_Thursday\n",
       "2018-09-15 18:00:00+03:00             0  Saturday    18          5  5_Saturday\n",
       "2018-09-14 08:00:00+03:00             9    Friday     8          4    4_Friday\n",
       "2018-09-10 12:00:00+03:00             3    Monday    12          0    0_Monday\n",
       "2018-09-09 01:00:00+03:00             0    Sunday     1          6    6_Sunday\n",
       "2018-09-20 19:00:00+03:00             0  Thursday    19          3  3_Thursday\n",
       "2018-09-09 17:00:00+03:00             0    Sunday    17          6    6_Sunday\n",
       "2018-09-09 12:00:00+03:00             0    Sunday    12          6    6_Sunday\n",
       "2018-09-11 17:00:00+03:00             0   Tuesday    17          1   1_Tuesday"
      ]
     },
     "execution_count": 11,
     "metadata": {},
     "output_type": "execute_result"
    }
   ],
   "source": [
    "df = pd.read_csv(\"../data/welder_time_local.csv\").set_index('time_local')\n",
    "df.sample(10)"
   ]
  },
  {
   "cell_type": "code",
   "execution_count": 12,
   "metadata": {
    "scrolled": true
   },
   "outputs": [
    {
     "data": {
      "text/html": [
       "<div>\n",
       "<style scoped>\n",
       "    .dataframe tbody tr th:only-of-type {\n",
       "        vertical-align: middle;\n",
       "    }\n",
       "\n",
       "    .dataframe tbody tr th {\n",
       "        vertical-align: top;\n",
       "    }\n",
       "\n",
       "    .dataframe thead th {\n",
       "        text-align: right;\n",
       "    }\n",
       "</style>\n",
       "<table border=\"1\" class=\"dataframe\">\n",
       "  <thead>\n",
       "    <tr style=\"text-align: right;\">\n",
       "      <th></th>\n",
       "      <th>welder_is_on</th>\n",
       "      <th>hour</th>\n",
       "      <th>day_index</th>\n",
       "    </tr>\n",
       "  </thead>\n",
       "  <tbody>\n",
       "    <tr>\n",
       "      <th>count</th>\n",
       "      <td>311.000000</td>\n",
       "      <td>311.000000</td>\n",
       "      <td>311.000000</td>\n",
       "    </tr>\n",
       "    <tr>\n",
       "      <th>mean</th>\n",
       "      <td>0.421222</td>\n",
       "      <td>11.527331</td>\n",
       "      <td>2.906752</td>\n",
       "    </tr>\n",
       "    <tr>\n",
       "      <th>std</th>\n",
       "      <td>2.326440</td>\n",
       "      <td>6.927625</td>\n",
       "      <td>2.051196</td>\n",
       "    </tr>\n",
       "    <tr>\n",
       "      <th>min</th>\n",
       "      <td>0.000000</td>\n",
       "      <td>0.000000</td>\n",
       "      <td>0.000000</td>\n",
       "    </tr>\n",
       "    <tr>\n",
       "      <th>25%</th>\n",
       "      <td>0.000000</td>\n",
       "      <td>6.000000</td>\n",
       "      <td>1.000000</td>\n",
       "    </tr>\n",
       "    <tr>\n",
       "      <th>50%</th>\n",
       "      <td>0.000000</td>\n",
       "      <td>12.000000</td>\n",
       "      <td>3.000000</td>\n",
       "    </tr>\n",
       "    <tr>\n",
       "      <th>75%</th>\n",
       "      <td>0.000000</td>\n",
       "      <td>17.500000</td>\n",
       "      <td>5.000000</td>\n",
       "    </tr>\n",
       "    <tr>\n",
       "      <th>max</th>\n",
       "      <td>26.000000</td>\n",
       "      <td>23.000000</td>\n",
       "      <td>6.000000</td>\n",
       "    </tr>\n",
       "  </tbody>\n",
       "</table>\n",
       "</div>"
      ],
      "text/plain": [
       "       welder_is_on        hour   day_index\n",
       "count    311.000000  311.000000  311.000000\n",
       "mean       0.421222   11.527331    2.906752\n",
       "std        2.326440    6.927625    2.051196\n",
       "min        0.000000    0.000000    0.000000\n",
       "25%        0.000000    6.000000    1.000000\n",
       "50%        0.000000   12.000000    3.000000\n",
       "75%        0.000000   17.500000    5.000000\n",
       "max       26.000000   23.000000    6.000000"
      ]
     },
     "execution_count": 12,
     "metadata": {},
     "output_type": "execute_result"
    }
   ],
   "source": [
    "df.describe()"
   ]
  },
  {
   "cell_type": "code",
   "execution_count": 13,
   "metadata": {},
   "outputs": [
    {
     "data": {
      "text/plain": [
       "131"
      ]
     },
     "execution_count": 13,
     "metadata": {},
     "output_type": "execute_result"
    }
   ],
   "source": [
    "df['welder_is_on'].sum()"
   ]
  },
  {
   "cell_type": "code",
   "execution_count": 14,
   "metadata": {},
   "outputs": [
    {
     "data": {
      "text/html": [
       "\n",
       "        <iframe\n",
       "            width=\"100%\"\n",
       "            height=\"500\"\n",
       "            src=\"pivottablejs.html\"\n",
       "            frameborder=\"0\"\n",
       "            allowfullscreen\n",
       "        ></iframe>\n",
       "        "
      ],
      "text/plain": [
       "<IPython.lib.display.IFrame at 0x10efe26d8>"
      ]
     },
     "execution_count": 14,
     "metadata": {},
     "output_type": "execute_result"
    }
   ],
   "source": [
    "# To come up with the config options, use this example to output the config: \n",
    "# https://pivottable.js.org/examples/onrefresh.html\n",
    "pivot_ui(df, \n",
    "         rows=['day'],\n",
    "         cols=['hour'],\n",
    "         rendererName=\"Table Barchart\",\n",
    "         aggregatorName=\"Integer Sum\",\n",
    "         vals=[\"welder_is_on\"])"
   ]
  },
  {
   "cell_type": "code",
   "execution_count": 15,
   "metadata": {
    "scrolled": false
   },
   "outputs": [
    {
     "data": {
      "text/html": [
       "\n",
       "        <iframe\n",
       "            width=\"100%\"\n",
       "            height=\"500\"\n",
       "            src=\"pivottablejs.html\"\n",
       "            frameborder=\"0\"\n",
       "            allowfullscreen\n",
       "        ></iframe>\n",
       "        "
      ],
      "text/plain": [
       "<IPython.lib.display.IFrame at 0x10bf58fd0>"
      ]
     },
     "execution_count": 15,
     "metadata": {},
     "output_type": "execute_result"
    }
   ],
   "source": [
    "pivot_ui(df, \n",
    "         rows=['day'],\n",
    "         cols=['hour'],\n",
    "         rendererName=\"Table Barchart\",\n",
    "         aggregatorName=\"Average\",\n",
    "         vals=[\"welder_is_on\"])"
   ]
  },
  {
   "cell_type": "code",
   "execution_count": 16,
   "metadata": {},
   "outputs": [
    {
     "data": {
      "text/html": [
       "\n",
       "        <iframe\n",
       "            width=\"100%\"\n",
       "            height=\"500\"\n",
       "            src=\"pivottablejs.html\"\n",
       "            frameborder=\"0\"\n",
       "            allowfullscreen\n",
       "        ></iframe>\n",
       "        "
      ],
      "text/plain": [
       "<IPython.lib.display.IFrame at 0x10bf3d9b0>"
      ]
     },
     "execution_count": 16,
     "metadata": {},
     "output_type": "execute_result"
    }
   ],
   "source": [
    "pivot_ui(df, \n",
    "         rows=['day'],\n",
    "         cols=['hour'],\n",
    "         rendererName=\"Table Barchart\",\n",
    "         aggregatorName=\"Sum over Sum\",\n",
    "         vals=[\"welder_is_on\", \"hour\"])"
   ]
  },
  {
   "cell_type": "markdown",
   "metadata": {},
   "source": [
    "## Example functions for next section:"
   ]
  },
  {
   "cell_type": "code",
   "execution_count": 17,
   "metadata": {},
   "outputs": [
    {
     "data": {
      "text/plain": [
       "4"
      ]
     },
     "execution_count": 17,
     "metadata": {},
     "output_type": "execute_result"
    }
   ],
   "source": [
    "measured = [1, 2, 3, 4, 5, 6, 7, 8, 9, 10]\n",
    "s1 = random.choice(measured)\n",
    "s1"
   ]
  },
  {
   "cell_type": "code",
   "execution_count": 18,
   "metadata": {},
   "outputs": [
    {
     "data": {
      "text/html": [
       "<div>\n",
       "<style scoped>\n",
       "    .dataframe tbody tr th:only-of-type {\n",
       "        vertical-align: middle;\n",
       "    }\n",
       "\n",
       "    .dataframe tbody tr th {\n",
       "        vertical-align: top;\n",
       "    }\n",
       "\n",
       "    .dataframe thead th {\n",
       "        text-align: right;\n",
       "    }\n",
       "</style>\n",
       "<table border=\"1\" class=\"dataframe\">\n",
       "  <thead>\n",
       "    <tr style=\"text-align: right;\">\n",
       "      <th></th>\n",
       "      <th>welder_is_on</th>\n",
       "      <th>day_name</th>\n",
       "      <th>hour</th>\n",
       "      <th>day_index</th>\n",
       "      <th>day</th>\n",
       "    </tr>\n",
       "    <tr>\n",
       "      <th>time_local</th>\n",
       "      <th></th>\n",
       "      <th></th>\n",
       "      <th></th>\n",
       "      <th></th>\n",
       "      <th></th>\n",
       "    </tr>\n",
       "  </thead>\n",
       "  <tbody>\n",
       "    <tr>\n",
       "      <th>2018-09-17 12:00:00+03:00</th>\n",
       "      <td>0</td>\n",
       "      <td>Monday</td>\n",
       "      <td>12</td>\n",
       "      <td>0</td>\n",
       "      <td>0_Monday</td>\n",
       "    </tr>\n",
       "    <tr>\n",
       "      <th>2018-09-17 07:00:00+03:00</th>\n",
       "      <td>0</td>\n",
       "      <td>Monday</td>\n",
       "      <td>7</td>\n",
       "      <td>0</td>\n",
       "      <td>0_Monday</td>\n",
       "    </tr>\n",
       "    <tr>\n",
       "      <th>2018-09-17 08:00:00+03:00</th>\n",
       "      <td>0</td>\n",
       "      <td>Monday</td>\n",
       "      <td>8</td>\n",
       "      <td>0</td>\n",
       "      <td>0_Monday</td>\n",
       "    </tr>\n",
       "  </tbody>\n",
       "</table>\n",
       "</div>"
      ],
      "text/plain": [
       "                           welder_is_on day_name  hour  day_index       day\n",
       "time_local                                                                 \n",
       "2018-09-17 12:00:00+03:00             0   Monday    12          0  0_Monday\n",
       "2018-09-17 07:00:00+03:00             0   Monday     7          0  0_Monday\n",
       "2018-09-17 08:00:00+03:00             0   Monday     8          0  0_Monday"
      ]
     },
     "execution_count": 18,
     "metadata": {},
     "output_type": "execute_result"
    }
   ],
   "source": [
    "df[df['day_name'] == 'Monday'].sample(3)"
   ]
  },
  {
   "cell_type": "markdown",
   "metadata": {},
   "source": [
    "## Create dataset for the load profile generator\n",
    "\n",
    "Take a sample of every hour of every weekday: So for example:\n",
    "\n",
    "```\n",
    "measured_usage = {\n",
    "  fri_09: [0, 1, 0, 3, 0, 1, 1]     # Friday @ 9am\n",
    "  sat_10: [0, 0, 1, 30, 10, 0, 2]   # Saturday @ 10am\n",
    "  ...\n",
    "}\n",
    "\n",
    "```"
   ]
  },
  {
   "cell_type": "code",
   "execution_count": 19,
   "metadata": {},
   "outputs": [],
   "source": [
    "day_range = range(7)\n",
    "hour_range = range(25)"
   ]
  },
  {
   "cell_type": "code",
   "execution_count": 20,
   "metadata": {},
   "outputs": [
    {
     "data": {
      "text/html": [
       "<div>\n",
       "<style scoped>\n",
       "    .dataframe tbody tr th:only-of-type {\n",
       "        vertical-align: middle;\n",
       "    }\n",
       "\n",
       "    .dataframe tbody tr th {\n",
       "        vertical-align: top;\n",
       "    }\n",
       "\n",
       "    .dataframe thead th {\n",
       "        text-align: right;\n",
       "    }\n",
       "</style>\n",
       "<table border=\"1\" class=\"dataframe\">\n",
       "  <thead>\n",
       "    <tr style=\"text-align: right;\">\n",
       "      <th></th>\n",
       "      <th>welder_is_on</th>\n",
       "      <th>day_name</th>\n",
       "      <th>hour</th>\n",
       "      <th>day_index</th>\n",
       "      <th>day</th>\n",
       "    </tr>\n",
       "    <tr>\n",
       "      <th>time_local</th>\n",
       "      <th></th>\n",
       "      <th></th>\n",
       "      <th></th>\n",
       "      <th></th>\n",
       "      <th></th>\n",
       "    </tr>\n",
       "  </thead>\n",
       "  <tbody>\n",
       "    <tr>\n",
       "      <th>2018-09-10 20:00:00+03:00</th>\n",
       "      <td>0</td>\n",
       "      <td>Monday</td>\n",
       "      <td>20</td>\n",
       "      <td>0</td>\n",
       "      <td>0_Monday</td>\n",
       "    </tr>\n",
       "    <tr>\n",
       "      <th>2018-09-08 21:00:00+03:00</th>\n",
       "      <td>0</td>\n",
       "      <td>Saturday</td>\n",
       "      <td>21</td>\n",
       "      <td>5</td>\n",
       "      <td>5_Saturday</td>\n",
       "    </tr>\n",
       "    <tr>\n",
       "      <th>2018-09-10 22:00:00+03:00</th>\n",
       "      <td>0</td>\n",
       "      <td>Monday</td>\n",
       "      <td>22</td>\n",
       "      <td>0</td>\n",
       "      <td>0_Monday</td>\n",
       "    </tr>\n",
       "    <tr>\n",
       "      <th>2018-09-19 15:00:00+03:00</th>\n",
       "      <td>0</td>\n",
       "      <td>Wednesday</td>\n",
       "      <td>15</td>\n",
       "      <td>2</td>\n",
       "      <td>2_Wednesday</td>\n",
       "    </tr>\n",
       "    <tr>\n",
       "      <th>2018-09-18 15:00:00+03:00</th>\n",
       "      <td>0</td>\n",
       "      <td>Tuesday</td>\n",
       "      <td>15</td>\n",
       "      <td>1</td>\n",
       "      <td>1_Tuesday</td>\n",
       "    </tr>\n",
       "  </tbody>\n",
       "</table>\n",
       "</div>"
      ],
      "text/plain": [
       "                           welder_is_on   day_name  hour  day_index  \\\n",
       "time_local                                                            \n",
       "2018-09-10 20:00:00+03:00             0     Monday    20          0   \n",
       "2018-09-08 21:00:00+03:00             0   Saturday    21          5   \n",
       "2018-09-10 22:00:00+03:00             0     Monday    22          0   \n",
       "2018-09-19 15:00:00+03:00             0  Wednesday    15          2   \n",
       "2018-09-18 15:00:00+03:00             0    Tuesday    15          1   \n",
       "\n",
       "                                   day  \n",
       "time_local                              \n",
       "2018-09-10 20:00:00+03:00     0_Monday  \n",
       "2018-09-08 21:00:00+03:00   5_Saturday  \n",
       "2018-09-10 22:00:00+03:00     0_Monday  \n",
       "2018-09-19 15:00:00+03:00  2_Wednesday  \n",
       "2018-09-18 15:00:00+03:00    1_Tuesday  "
      ]
     },
     "execution_count": 20,
     "metadata": {},
     "output_type": "execute_result"
    }
   ],
   "source": [
    "df.sample(5)"
   ]
  },
  {
   "cell_type": "code",
   "execution_count": 21,
   "metadata": {},
   "outputs": [],
   "source": [
    "# Shortens a day name to the first 3 letters (Saturday => sat)\n",
    "def shorten_day_name(day_string):\n",
    "    return day_string[0:3].lower()\n",
    "\n",
    "# Python allows tuples as dict keys. For example: (\"Saturday\" 10): [0, 0, 2, 4, 0]\n",
    "# But this data structure will be exported to JSON, which only allows string keys. \n",
    "# So the key generated by this function will look like this: \"sat_10\": [0, 0, 2, 4, 0]\n",
    "def composite_key(day_name, hour):\n",
    "    padded_hour = str(hour).zfill(2)\n",
    "    return \"{}_{}\".format(shorten_day_name(day_name), padded_hour)"
   ]
  },
  {
   "cell_type": "code",
   "execution_count": 22,
   "metadata": {},
   "outputs": [
    {
     "data": {
      "text/plain": [
       "defaultdict(list,\n",
       "            {'fri_00': [0, 0],\n",
       "             'fri_01': [0, 0],\n",
       "             'fri_02': [0, 0],\n",
       "             'fri_03': [0],\n",
       "             'fri_04': [0],\n",
       "             'fri_05': [0],\n",
       "             'fri_06': [0],\n",
       "             'fri_07': [0],\n",
       "             'fri_08': [9],\n",
       "             'fri_09': [5],\n",
       "             'fri_10': [0],\n",
       "             'fri_11': [0],\n",
       "             'fri_12': [0],\n",
       "             'fri_13': [0],\n",
       "             'fri_14': [0],\n",
       "             'fri_15': [0],\n",
       "             'fri_16': [0],\n",
       "             'fri_17': [0],\n",
       "             'fri_18': [0],\n",
       "             'fri_19': [0],\n",
       "             'fri_20': [0],\n",
       "             'fri_21': [0],\n",
       "             'fri_22': [0],\n",
       "             'fri_23': [0],\n",
       "             'mon_00': [0, 0],\n",
       "             'mon_01': [0, 0],\n",
       "             'mon_02': [0, 0],\n",
       "             'mon_03': [1, 0],\n",
       "             'mon_04': [0, 0],\n",
       "             'mon_05': [0, 0],\n",
       "             'mon_06': [0, 0],\n",
       "             'mon_07': [0, 0],\n",
       "             'mon_08': [0, 0],\n",
       "             'mon_09': [0, 8],\n",
       "             'mon_10': [0, 0],\n",
       "             'mon_11': [0, 0],\n",
       "             'mon_12': [3, 0],\n",
       "             'mon_13': [0, 0],\n",
       "             'mon_14': [0, 0],\n",
       "             'mon_15': [0, 0],\n",
       "             'mon_16': [0, 0],\n",
       "             'mon_17': [0, 0],\n",
       "             'mon_18': [0, 0],\n",
       "             'mon_19': [0, 0],\n",
       "             'mon_20': [0, 0],\n",
       "             'mon_21': [0, 0],\n",
       "             'mon_22': [0, 0],\n",
       "             'mon_23': [0, 0],\n",
       "             'sat_00': [0],\n",
       "             'sat_01': [0],\n",
       "             'sat_02': [0],\n",
       "             'sat_03': [0],\n",
       "             'sat_04': [0, 0],\n",
       "             'sat_05': [0, 0],\n",
       "             'sat_06': [1, 0],\n",
       "             'sat_07': [0, 0],\n",
       "             'sat_08': [0, 0],\n",
       "             'sat_09': [8, 0],\n",
       "             'sat_10': [24, 0],\n",
       "             'sat_11': [26, 0],\n",
       "             'sat_12': [2, 0],\n",
       "             'sat_13': [0, 0],\n",
       "             'sat_14': [0, 0],\n",
       "             'sat_15': [0, 0],\n",
       "             'sat_16': [0, 0],\n",
       "             'sat_17': [0, 0],\n",
       "             'sat_18': [0, 0],\n",
       "             'sat_19': [0, 0],\n",
       "             'sat_20': [0, 0],\n",
       "             'sat_21': [0, 0],\n",
       "             'sat_22': [0, 0],\n",
       "             'sat_23': [0, 0],\n",
       "             'sun_00': [0, 0],\n",
       "             'sun_01': [0, 0],\n",
       "             'sun_02': [2, 0],\n",
       "             'sun_03': [3, 0],\n",
       "             'sun_04': [0, 0],\n",
       "             'sun_05': [0, 0],\n",
       "             'sun_06': [0, 0],\n",
       "             'sun_07': [0, 0],\n",
       "             'sun_08': [0, 0],\n",
       "             'sun_09': [0, 0],\n",
       "             'sun_10': [0, 0],\n",
       "             'sun_11': [0, 0],\n",
       "             'sun_12': [0, 3],\n",
       "             'sun_13': [0, 0],\n",
       "             'sun_14': [0, 0],\n",
       "             'sun_15': [0, 0],\n",
       "             'sun_16': [0, 0],\n",
       "             'sun_17': [0, 0],\n",
       "             'sun_18': [0, 0],\n",
       "             'sun_19': [0, 0],\n",
       "             'sun_20': [0, 0],\n",
       "             'sun_21': [0, 0],\n",
       "             'sun_22': [0, 0],\n",
       "             'sun_23': [0, 0],\n",
       "             'thu_00': [0, 0],\n",
       "             'thu_01': [0, 0],\n",
       "             'thu_02': [0, 0],\n",
       "             'thu_03': [0, 0],\n",
       "             'thu_04': [0, 0],\n",
       "             'thu_05': [5, 0],\n",
       "             'thu_06': [0, 0],\n",
       "             'thu_07': [0, 0],\n",
       "             'thu_08': [0, 0],\n",
       "             'thu_09': [0, 0],\n",
       "             'thu_10': [4, 0],\n",
       "             'thu_11': [5, 0],\n",
       "             'thu_12': [9, 0],\n",
       "             'thu_13': [0, 0],\n",
       "             'thu_14': [0, 0],\n",
       "             'thu_15': [0, 0],\n",
       "             'thu_16': [0, 0],\n",
       "             'thu_17': [0, 0],\n",
       "             'thu_18': [0, 0],\n",
       "             'thu_19': [0, 0],\n",
       "             'thu_20': [0, 0],\n",
       "             'thu_21': [0, 0],\n",
       "             'thu_22': [0, 0],\n",
       "             'thu_23': [0, 0],\n",
       "             'tue_00': [0, 0],\n",
       "             'tue_01': [0, 0],\n",
       "             'tue_02': [0, 0],\n",
       "             'tue_03': [0, 0],\n",
       "             'tue_04': [0, 0],\n",
       "             'tue_05': [0, 0],\n",
       "             'tue_06': [0, 0],\n",
       "             'tue_07': [0, 0],\n",
       "             'tue_08': [0, 0],\n",
       "             'tue_09': [0, 7],\n",
       "             'tue_10': [0, 1],\n",
       "             'tue_11': [0, 0],\n",
       "             'tue_12': [0, 0],\n",
       "             'tue_13': [0, 0],\n",
       "             'tue_14': [0, 0],\n",
       "             'tue_15': [0, 0],\n",
       "             'tue_16': [0, 0],\n",
       "             'tue_17': [0, 0],\n",
       "             'tue_18': [0, 0],\n",
       "             'tue_19': [0, 0],\n",
       "             'tue_20': [0, 0],\n",
       "             'tue_21': [0, 0],\n",
       "             'tue_22': [0, 0],\n",
       "             'tue_23': [0, 0],\n",
       "             'wed_00': [0, 0],\n",
       "             'wed_01': [0, 0],\n",
       "             'wed_02': [0, 0],\n",
       "             'wed_03': [0, 0],\n",
       "             'wed_04': [0, 0],\n",
       "             'wed_05': [0, 0],\n",
       "             'wed_06': [0, 0],\n",
       "             'wed_07': [0, 0],\n",
       "             'wed_08': [0, 0],\n",
       "             'wed_09': [0, 0],\n",
       "             'wed_10': [0, 0],\n",
       "             'wed_11': [0, 2],\n",
       "             'wed_12': [0, 3],\n",
       "             'wed_13': [0, 0],\n",
       "             'wed_14': [0, 0],\n",
       "             'wed_15': [0, 0],\n",
       "             'wed_16': [0, 0],\n",
       "             'wed_17': [0, 0],\n",
       "             'wed_18': [0, 0],\n",
       "             'wed_19': [0, 0],\n",
       "             'wed_20': [0, 0],\n",
       "             'wed_21': [0, 0],\n",
       "             'wed_22': [0, 0],\n",
       "             'wed_23': [0, 0]})"
      ]
     },
     "execution_count": 22,
     "metadata": {},
     "output_type": "execute_result"
    }
   ],
   "source": [
    "# TODO: document this function\n",
    "def create_usage_profile_data(df):\n",
    "    dict = defaultdict(list)\n",
    "    for index, row in df.iterrows():\n",
    "        key = composite_key(row['day_name'], row['hour'])\n",
    "        dict[key].append(row['welder_is_on'])\n",
    "    return dict\n",
    "\n",
    "measured_usage = create_usage_profile_data(df)\n",
    "measured_usage"
   ]
  },
  {
   "cell_type": "code",
   "execution_count": 23,
   "metadata": {},
   "outputs": [
    {
     "data": {
      "text/plain": [
       "True"
      ]
     },
     "execution_count": 23,
     "metadata": {},
     "output_type": "execute_result"
    }
   ],
   "source": [
    "# Make sure there is a key for every hour of every day of the week  \n",
    "# represented: (7x24 = 168) \n",
    "len(measured_usage) == 7*24"
   ]
  },
  {
   "cell_type": "code",
   "execution_count": 25,
   "metadata": {},
   "outputs": [],
   "source": [
    "# This dataset is everything the web app needs to generate a 52-week\n",
    "# usage profile based on sampling (more on that below). \n",
    "# Output to JSON so it can be imported into the app\n",
    "with open('../data/welder_usage_generator_data.json', 'w') as fp:\n",
    "    json.dump(measured_usage, fp)"
   ]
  },
  {
   "cell_type": "markdown",
   "metadata": {},
   "source": [
    "## Create Usage Profile Generator\n",
    "Day 1 of the year (Sat @ 10am): sample(measured_usage.sat_10)\n",
    "\n",
    "Day 2 of the year (Frid @ 9am): sample(measured_usage.sat_10)\n",
    "\n",
    "Check: see if the sum, avg and std roughly matches the measured values"
   ]
  },
  {
   "cell_type": "code",
   "execution_count": null,
   "metadata": {},
   "outputs": [],
   "source": [
    "# TODO: document \n",
    "def create_year_range_df(year=2018):\n",
    "    start_date_str = '1/1/{}'.format(year + 1)\n",
    "    start_date = pd.to_datetime(start_date_str) - pd.Timedelta(days=365)\n",
    "    hourly_periods = 8760\n",
    "    date_range = pd.date_range(start_date, periods=hourly_periods, freq='H')\n",
    "    year_hours = list(range(len(date_range)))\n",
    "    df_year = pd.DataFrame({\"hour_of_year\": year_hours}, index=date_range)\n",
    "    \n",
    "    # Now add day of week and hour of day columns\n",
    "    df_year['day_name'] = df_year.index.day_name()\n",
    "    df_year['hour_of_day'] = df_year.index.hour\n",
    "    return df_year\n",
    "\n",
    "df_year = create_year_range_df()\n",
    "df_year.sample(5)"
   ]
  },
  {
   "cell_type": "code",
   "execution_count": null,
   "metadata": {},
   "outputs": [],
   "source": [
    "random.choice([1, 2, 3])"
   ]
  },
  {
   "cell_type": "code",
   "execution_count": null,
   "metadata": {},
   "outputs": [],
   "source": [
    "# TODO: (Problem)\n",
    "# Using random.choice on a list of length 1 will always return the single value\n",
    "# If there is only a single measured value in the list, it will always pick that one, \n",
    "# which is likely overrepresenting usage\n",
    "# Options:\n",
    "# 1. Always pad a list with a zero if there is only 1 value (this can be done easily in sample_usage())\n",
    "# 2. Sample across multiple hours or days if there is only 1 value\n",
    "# 3. Sample across multiple hours or days if the measured samples are below ~5-10\n",
    "# 4. Always sample across multiple hours or days\n",
    "def sample_usage(measured_usage, row):\n",
    "    key = composite_key(row['day_name'], row['hour_of_day'])\n",
    "    return random.choice(measured_usage[key])\n",
    "    \n",
    "# measured_usage[composite_key(row['day_name'], row['hour_of_day'])][0]\n",
    "def generate_usage_profile(measured_usage, year=2018):\n",
    "    df = create_year_range_df(year)\n",
    "    df['welder'] = df.apply(partial(sample_usage, measured_usage), axis=1) \n",
    "    return df\n",
    "\n",
    "df_usage_profile = generate_usage_profile(measured_usage)\n",
    "df_usage_profile.head(20)"
   ]
  },
  {
   "cell_type": "code",
   "execution_count": null,
   "metadata": {},
   "outputs": [],
   "source": [
    "pivot_ui(df_usage_profile, \n",
    "         rows=['day_name', 'hour_of_day'],\n",
    "         cols=['welder'],\n",
    "         rendererName=\"Table\",\n",
    "         aggregatorName=\"Count\")"
   ]
  },
  {
   "cell_type": "code",
   "execution_count": null,
   "metadata": {},
   "outputs": [],
   "source": []
  }
 ],
 "metadata": {
  "kernelspec": {
   "display_name": "Python 3",
   "language": "python",
   "name": "python3"
  },
  "language_info": {
   "codemirror_mode": {
    "name": "ipython",
    "version": 3
   },
   "file_extension": ".py",
   "mimetype": "text/x-python",
   "name": "python",
   "nbconvert_exporter": "python",
   "pygments_lexer": "ipython3",
   "version": "3.6.4"
  }
 },
 "nbformat": 4,
 "nbformat_minor": 2
}
