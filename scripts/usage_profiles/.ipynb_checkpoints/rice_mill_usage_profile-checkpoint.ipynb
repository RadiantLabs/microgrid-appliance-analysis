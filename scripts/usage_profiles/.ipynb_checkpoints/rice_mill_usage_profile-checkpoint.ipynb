{
 "cells": [
  {
   "cell_type": "markdown",
   "metadata": {},
   "source": [
    "# Create yearly mill usage profile based on measured usage\n",
    "\n",
    "This notebook will follow a very similar approach to the welder notebook here: https://github.com/RadiantLabs/microgrid-appliance-analysis/blob/master/scripts/usage_profiles/welder_usage_profile.ipynb \n",
    "\n",
    "I will include a lot less context in this notebook for now. I can fill it out later if needed.\n",
    "\n",
    "### Definitions\n",
    "**Usage Profile**: A usage profile is a unitless series of how often the mill is used on an hourly basis throughout a year. Being unitless allows us to apply costs, power or other factors to generate load, throughput or cost profiles. \n",
    "\n",
    "**day_hour**: Monday at 2pm is a single `day_hour` for example. Monday at 3pm is a different `day_hour`. There are 24 hours x 7 days = 168 `day_hour`s.\n",
    "\n",
    "### General Steps\n",
    "1. Import measured usage data from a mill. This data is in 2 minute increments and has a usage value associated with it. \n",
    "2. Filter out any noise, where any usage value below 100 would be considered \"off\". Count anything greater than that as \"on\" (assign a value of 1) for that 2 minute interval.\n",
    "3. Resample 2 minute data to 1 hour data, summing new usage values. \n",
    "4. Group data by `day_hour`s and export for web app\n",
    "5. Generate a yearly profile by randomly sampling measured `day_hour`s and applying them to the rest of the year.\n",
    "6. Compare stats of yearly usage profile to measured usage profile to make sure we made reasonable assumptions\n",
    "\n",
    "We probably don't need to interpolate, since we have 5-6 measured values per `day_hour`\n",
    "\n",
    "### TODO\n",
    "* Decide on what the max RPM is. Do quintiles and take the top 20% as full load? \n",
    "> Amanda: is the engine running harder than full rated load during these times? I think so, because it would then mean that most of the activity is happening around 80% of full rated load, which is normal for a diesel engine\n",
    "* Come up power-to-RPM curve. From common mills (https://www.alibaba.com/product-detail/Changfa-type-20-hp-S1115-single_60629667381.html?spm=a2700.7724857.normalList.30.48f321e0kzd6H9), we can see that 16.2kW = 2200 RPM (which would imply this mill is running at half speed most of the time)\n",
    "> Amanda: I think that actually makes a lot of sense. … so 2200 RPM = 100% load\n",
    "* Ask if Timestamp is in GMT (I am assuming it is)\n",
    "\n",
    "* Add photos of the mill and measuring device(?)\n",
    "\n",
    "### Running this notebook\n",
    "Jupyter notebooks are very flexible but have problems with out-of-order function executions.\n",
    "For example, dropping a column once and then trying to drop the same column again because\n",
    "you're evaluating the same cell will throw an error. \n",
    "\n",
    "Go to Cell > Run All from the menu often or if having problems. For final output, always run it."
   ]
  },
  {
   "cell_type": "markdown",
   "metadata": {},
   "source": [
    "## Setup & Library Imports"
   ]
  },
  {
   "cell_type": "code",
   "execution_count": 754,
   "metadata": {},
   "outputs": [
    {
     "data": {
      "text/plain": [
       "'0.23.4'"
      ]
     },
     "execution_count": 754,
     "metadata": {},
     "output_type": "execute_result"
    }
   ],
   "source": [
    "# Reset all variables so that we can 'run all cells' and not get unused variables hanging around\n",
    "%reset -f\n",
    "\n",
    "# Most of this comes with anaconda distribution. I thinkt the only one \n",
    "# you have to install is:\n",
    "# conda install pivottablejs\n",
    "import pandas as pd\n",
    "import numpy as np\n",
    "from scipy.stats import mode\n",
    "from pivottablejs import pivot_ui\n",
    "from collections import defaultdict\n",
    "from functools import partial\n",
    "import random\n",
    "import json\n",
    "import pytz\n",
    "\n",
    "# Should have pandas 0.23 or greater. If not and you're using Anaconda for packages, \n",
    "# do this in the terminal: `conda update pandas`\n",
    "pd.__version__    "
   ]
  },
  {
   "cell_type": "markdown",
   "metadata": {},
   "source": [
    "## Import Mill Data"
   ]
  },
  {
   "cell_type": "code",
   "execution_count": 755,
   "metadata": {},
   "outputs": [],
   "source": [
    "# Uncomment / comment based on the mill you want to analyze\n",
    "\n",
    "## Rice Mill\n",
    "excel_file_path = 'data/RiceHulling_LP_Tanzania 20180908-20181018.xlsx'\n",
    "sheet_name = 'RiceHulling_LP_Tanzania'\n",
    "output_generator_kw_data_name = 'output/rice_mill_kw_generator_data.json'\n",
    "output_generator_grain_data_name = 'output/rice_mill_grain_generator_data.json'\n",
    "output_profile_name = 'output/rice_mill_usage_profile.csv'\n",
    "\n",
    "## Maize Mill\n",
    "# excel_file_path = 'data/MaizeMilling_LP_Tanzania 20180907-20180930.xlsx'\n",
    "# # sheet_name = 'MaizeMilling_LP_Tanzania 201809'\n",
    "# output_generator_kw_data_name = 'output/maize_mill_kw_generator_data.json'\n",
    "# output_generator_grain_data_name = 'output/maize_mill_grain_generator_data.json'\n",
    "# output_profile_name = 'output/maize_mill_usage_profile.csv'"
   ]
  },
  {
   "cell_type": "code",
   "execution_count": 756,
   "metadata": {},
   "outputs": [
    {
     "data": {
      "text/html": [
       "<div>\n",
       "<style scoped>\n",
       "    .dataframe tbody tr th:only-of-type {\n",
       "        vertical-align: middle;\n",
       "    }\n",
       "\n",
       "    .dataframe tbody tr th {\n",
       "        vertical-align: top;\n",
       "    }\n",
       "\n",
       "    .dataframe thead th {\n",
       "        text-align: right;\n",
       "    }\n",
       "</style>\n",
       "<table border=\"1\" class=\"dataframe\">\n",
       "  <thead>\n",
       "    <tr style=\"text-align: right;\">\n",
       "      <th></th>\n",
       "      <th>time_gmt</th>\n",
       "      <th>2min_count</th>\n",
       "    </tr>\n",
       "  </thead>\n",
       "  <tbody>\n",
       "    <tr>\n",
       "      <th>0</th>\n",
       "      <td>2018-09-07 23:21:24</td>\n",
       "      <td>0</td>\n",
       "    </tr>\n",
       "    <tr>\n",
       "      <th>1</th>\n",
       "      <td>2018-09-07 23:23:24</td>\n",
       "      <td>0</td>\n",
       "    </tr>\n",
       "    <tr>\n",
       "      <th>2</th>\n",
       "      <td>2018-09-07 23:25:24</td>\n",
       "      <td>0</td>\n",
       "    </tr>\n",
       "    <tr>\n",
       "      <th>3</th>\n",
       "      <td>2018-09-07 23:27:24</td>\n",
       "      <td>0</td>\n",
       "    </tr>\n",
       "    <tr>\n",
       "      <th>4</th>\n",
       "      <td>2018-09-07 23:29:24</td>\n",
       "      <td>0</td>\n",
       "    </tr>\n",
       "  </tbody>\n",
       "</table>\n",
       "</div>"
      ],
      "text/plain": [
       "              time_gmt  2min_count\n",
       "0  2018-09-07 23:21:24           0\n",
       "1  2018-09-07 23:23:24           0\n",
       "2  2018-09-07 23:25:24           0\n",
       "3  2018-09-07 23:27:24           0\n",
       "4  2018-09-07 23:29:24           0"
      ]
     },
     "execution_count": 756,
     "metadata": {},
     "output_type": "execute_result"
    }
   ],
   "source": [
    "# Import Excel file, specify the sheet & import it into a Pandas Dataframe.\n",
    "# df is short for Pandas DataFrame - it makes it clearer what this datastructure is\n",
    "df_measured_2min = pd.read_excel(excel_file_path, sheet_name=sheet_name)\n",
    "\n",
    "# Rename columns so they are shorter and easier to work with.\n",
    "df_measured_2min = df_measured_2min.rename(columns={'Timestamp': 'time_gmt', 'Value RPM for 2 min)': '2min_count'})\n",
    "\n",
    "# Keep only relevant columns\n",
    "df_measured_2min = df_measured_2min[['time_gmt', '2min_count']]\n",
    "df_measured_2min.head()"
   ]
  },
  {
   "cell_type": "code",
   "execution_count": 757,
   "metadata": {},
   "outputs": [
    {
     "data": {
      "text/plain": [
       "(15879, 2)"
      ]
     },
     "execution_count": 757,
     "metadata": {},
     "output_type": "execute_result"
    }
   ],
   "source": [
    "df_measured_2min.shape # (rows, columns)"
   ]
  },
  {
   "cell_type": "markdown",
   "metadata": {},
   "source": [
    "## Convert Timezone"
   ]
  },
  {
   "cell_type": "code",
   "execution_count": 758,
   "metadata": {},
   "outputs": [],
   "source": [
    "# To see all timezones available (but select only the first 55 to see Africa): \n",
    "# pytz.all_timezones[0:55]  "
   ]
  },
  {
   "cell_type": "code",
   "execution_count": 759,
   "metadata": {},
   "outputs": [],
   "source": [
    "# There was no Tanzania listed. Nairobi is +3 which is the same as Tanzania\n",
    "# There should not be a problem with daylight savings time - from my research neither observe it\n",
    "tanzania_tz = pytz.timezone('Africa/Nairobi')"
   ]
  },
  {
   "cell_type": "code",
   "execution_count": 760,
   "metadata": {},
   "outputs": [],
   "source": [
    "# Convert date string to proper datetime so we can work with timezones\n",
    "df_measured_2min['time_gmt'] = pd.to_datetime(df_measured_2min['time_gmt'])"
   ]
  },
  {
   "cell_type": "code",
   "execution_count": 761,
   "metadata": {},
   "outputs": [
    {
     "data": {
      "text/html": [
       "<div>\n",
       "<style scoped>\n",
       "    .dataframe tbody tr th:only-of-type {\n",
       "        vertical-align: middle;\n",
       "    }\n",
       "\n",
       "    .dataframe tbody tr th {\n",
       "        vertical-align: top;\n",
       "    }\n",
       "\n",
       "    .dataframe thead th {\n",
       "        text-align: right;\n",
       "    }\n",
       "</style>\n",
       "<table border=\"1\" class=\"dataframe\">\n",
       "  <thead>\n",
       "    <tr style=\"text-align: right;\">\n",
       "      <th></th>\n",
       "      <th>time_gmt</th>\n",
       "      <th>2min_count</th>\n",
       "      <th>time_local</th>\n",
       "    </tr>\n",
       "  </thead>\n",
       "  <tbody>\n",
       "    <tr>\n",
       "      <th>0</th>\n",
       "      <td>2018-09-07 23:21:24</td>\n",
       "      <td>0</td>\n",
       "      <td>2018-09-08 02:21:24+03:00</td>\n",
       "    </tr>\n",
       "    <tr>\n",
       "      <th>1</th>\n",
       "      <td>2018-09-07 23:23:24</td>\n",
       "      <td>0</td>\n",
       "      <td>2018-09-08 02:23:24+03:00</td>\n",
       "    </tr>\n",
       "    <tr>\n",
       "      <th>2</th>\n",
       "      <td>2018-09-07 23:25:24</td>\n",
       "      <td>0</td>\n",
       "      <td>2018-09-08 02:25:24+03:00</td>\n",
       "    </tr>\n",
       "    <tr>\n",
       "      <th>3</th>\n",
       "      <td>2018-09-07 23:27:24</td>\n",
       "      <td>0</td>\n",
       "      <td>2018-09-08 02:27:24+03:00</td>\n",
       "    </tr>\n",
       "    <tr>\n",
       "      <th>4</th>\n",
       "      <td>2018-09-07 23:29:24</td>\n",
       "      <td>0</td>\n",
       "      <td>2018-09-08 02:29:24+03:00</td>\n",
       "    </tr>\n",
       "  </tbody>\n",
       "</table>\n",
       "</div>"
      ],
      "text/plain": [
       "             time_gmt  2min_count                time_local\n",
       "0 2018-09-07 23:21:24           0 2018-09-08 02:21:24+03:00\n",
       "1 2018-09-07 23:23:24           0 2018-09-08 02:23:24+03:00\n",
       "2 2018-09-07 23:25:24           0 2018-09-08 02:25:24+03:00\n",
       "3 2018-09-07 23:27:24           0 2018-09-08 02:27:24+03:00\n",
       "4 2018-09-07 23:29:24           0 2018-09-08 02:29:24+03:00"
      ]
     },
     "execution_count": 761,
     "metadata": {},
     "output_type": "execute_result"
    }
   ],
   "source": [
    "# Add local time\n",
    "df_measured_2min['time_local'] = df_measured_2min['time_gmt'].dt.tz_localize('utc').dt.tz_convert(tanzania_tz)\n",
    "df_measured_2min = df_measured_2min\n",
    "df_measured_2min.head()"
   ]
  },
  {
   "cell_type": "markdown",
   "metadata": {},
   "source": [
    "## Calculate RPM\n",
    "The mill sensor measures rotations every 2 minutes. Calculate RPMs by dividing by 2"
   ]
  },
  {
   "cell_type": "code",
   "execution_count": 762,
   "metadata": {
    "scrolled": true
   },
   "outputs": [
    {
     "data": {
      "text/html": [
       "<div>\n",
       "<style scoped>\n",
       "    .dataframe tbody tr th:only-of-type {\n",
       "        vertical-align: middle;\n",
       "    }\n",
       "\n",
       "    .dataframe tbody tr th {\n",
       "        vertical-align: top;\n",
       "    }\n",
       "\n",
       "    .dataframe thead th {\n",
       "        text-align: right;\n",
       "    }\n",
       "</style>\n",
       "<table border=\"1\" class=\"dataframe\">\n",
       "  <thead>\n",
       "    <tr style=\"text-align: right;\">\n",
       "      <th></th>\n",
       "      <th>time_gmt</th>\n",
       "      <th>2min_count</th>\n",
       "      <th>time_local</th>\n",
       "      <th>rpm</th>\n",
       "    </tr>\n",
       "  </thead>\n",
       "  <tbody>\n",
       "    <tr>\n",
       "      <th>7539</th>\n",
       "      <td>2018-09-18 10:20:04</td>\n",
       "      <td>0</td>\n",
       "      <td>2018-09-18 13:20:04+03:00</td>\n",
       "      <td>0</td>\n",
       "    </tr>\n",
       "    <tr>\n",
       "      <th>15342</th>\n",
       "      <td>2018-09-29 06:06:53</td>\n",
       "      <td>0</td>\n",
       "      <td>2018-09-29 09:06:53+03:00</td>\n",
       "      <td>0</td>\n",
       "    </tr>\n",
       "    <tr>\n",
       "      <th>3916</th>\n",
       "      <td>2018-09-13 09:40:30</td>\n",
       "      <td>0</td>\n",
       "      <td>2018-09-13 12:40:30+03:00</td>\n",
       "      <td>0</td>\n",
       "    </tr>\n",
       "    <tr>\n",
       "      <th>12313</th>\n",
       "      <td>2018-09-25 01:21:50</td>\n",
       "      <td>0</td>\n",
       "      <td>2018-09-25 04:21:50+03:00</td>\n",
       "      <td>0</td>\n",
       "    </tr>\n",
       "    <tr>\n",
       "      <th>12175</th>\n",
       "      <td>2018-09-24 20:45:50</td>\n",
       "      <td>0</td>\n",
       "      <td>2018-09-24 23:45:50+03:00</td>\n",
       "      <td>0</td>\n",
       "    </tr>\n",
       "    <tr>\n",
       "      <th>4240</th>\n",
       "      <td>2018-09-13 20:28:30</td>\n",
       "      <td>0</td>\n",
       "      <td>2018-09-13 23:28:30+03:00</td>\n",
       "      <td>0</td>\n",
       "    </tr>\n",
       "    <tr>\n",
       "      <th>15691</th>\n",
       "      <td>2018-09-29 17:44:53</td>\n",
       "      <td>0</td>\n",
       "      <td>2018-09-29 20:44:53+03:00</td>\n",
       "      <td>0</td>\n",
       "    </tr>\n",
       "    <tr>\n",
       "      <th>2253</th>\n",
       "      <td>2018-09-11 02:23:27</td>\n",
       "      <td>0</td>\n",
       "      <td>2018-09-11 05:23:27+03:00</td>\n",
       "      <td>0</td>\n",
       "    </tr>\n",
       "    <tr>\n",
       "      <th>3221</th>\n",
       "      <td>2018-09-12 10:30:30</td>\n",
       "      <td>4197</td>\n",
       "      <td>2018-09-12 13:30:30+03:00</td>\n",
       "      <td>2098</td>\n",
       "    </tr>\n",
       "    <tr>\n",
       "      <th>6844</th>\n",
       "      <td>2018-09-17 11:16:30</td>\n",
       "      <td>0</td>\n",
       "      <td>2018-09-17 14:16:30+03:00</td>\n",
       "      <td>0</td>\n",
       "    </tr>\n",
       "  </tbody>\n",
       "</table>\n",
       "</div>"
      ],
      "text/plain": [
       "                 time_gmt  2min_count                time_local   rpm\n",
       "7539  2018-09-18 10:20:04           0 2018-09-18 13:20:04+03:00     0\n",
       "15342 2018-09-29 06:06:53           0 2018-09-29 09:06:53+03:00     0\n",
       "3916  2018-09-13 09:40:30           0 2018-09-13 12:40:30+03:00     0\n",
       "12313 2018-09-25 01:21:50           0 2018-09-25 04:21:50+03:00     0\n",
       "12175 2018-09-24 20:45:50           0 2018-09-24 23:45:50+03:00     0\n",
       "4240  2018-09-13 20:28:30           0 2018-09-13 23:28:30+03:00     0\n",
       "15691 2018-09-29 17:44:53           0 2018-09-29 20:44:53+03:00     0\n",
       "2253  2018-09-11 02:23:27           0 2018-09-11 05:23:27+03:00     0\n",
       "3221  2018-09-12 10:30:30        4197 2018-09-12 13:30:30+03:00  2098\n",
       "6844  2018-09-17 11:16:30           0 2018-09-17 14:16:30+03:00     0"
      ]
     },
     "execution_count": 762,
     "metadata": {},
     "output_type": "execute_result"
    }
   ],
   "source": [
    "def count_to_rpm(count):\n",
    "    return round(count / 2)\n",
    "\n",
    "df_measured_2min['rpm'] = df_measured_2min['2min_count'].apply(count_to_rpm)\n",
    "df_measured_2min.sample(10)"
   ]
  },
  {
   "cell_type": "markdown",
   "metadata": {},
   "source": [
    "## Explore Data"
   ]
  },
  {
   "cell_type": "code",
   "execution_count": 763,
   "metadata": {
    "scrolled": true
   },
   "outputs": [
    {
     "data": {
      "text/html": [
       "<div>\n",
       "<style scoped>\n",
       "    .dataframe tbody tr th:only-of-type {\n",
       "        vertical-align: middle;\n",
       "    }\n",
       "\n",
       "    .dataframe tbody tr th {\n",
       "        vertical-align: top;\n",
       "    }\n",
       "\n",
       "    .dataframe thead th {\n",
       "        text-align: right;\n",
       "    }\n",
       "</style>\n",
       "<table border=\"1\" class=\"dataframe\">\n",
       "  <thead>\n",
       "    <tr style=\"text-align: right;\">\n",
       "      <th></th>\n",
       "      <th>2min_count</th>\n",
       "      <th>rpm</th>\n",
       "    </tr>\n",
       "  </thead>\n",
       "  <tbody>\n",
       "    <tr>\n",
       "      <th>count</th>\n",
       "      <td>15879.000000</td>\n",
       "      <td>15879.000000</td>\n",
       "    </tr>\n",
       "    <tr>\n",
       "      <th>mean</th>\n",
       "      <td>407.262044</td>\n",
       "      <td>203.631211</td>\n",
       "    </tr>\n",
       "    <tr>\n",
       "      <th>std</th>\n",
       "      <td>2398.329118</td>\n",
       "      <td>1199.170861</td>\n",
       "    </tr>\n",
       "    <tr>\n",
       "      <th>min</th>\n",
       "      <td>0.000000</td>\n",
       "      <td>0.000000</td>\n",
       "    </tr>\n",
       "    <tr>\n",
       "      <th>25%</th>\n",
       "      <td>0.000000</td>\n",
       "      <td>0.000000</td>\n",
       "    </tr>\n",
       "    <tr>\n",
       "      <th>50%</th>\n",
       "      <td>0.000000</td>\n",
       "      <td>0.000000</td>\n",
       "    </tr>\n",
       "    <tr>\n",
       "      <th>75%</th>\n",
       "      <td>0.000000</td>\n",
       "      <td>0.000000</td>\n",
       "    </tr>\n",
       "    <tr>\n",
       "      <th>max</th>\n",
       "      <td>23269.000000</td>\n",
       "      <td>11634.000000</td>\n",
       "    </tr>\n",
       "  </tbody>\n",
       "</table>\n",
       "</div>"
      ],
      "text/plain": [
       "         2min_count           rpm\n",
       "count  15879.000000  15879.000000\n",
       "mean     407.262044    203.631211\n",
       "std     2398.329118   1199.170861\n",
       "min        0.000000      0.000000\n",
       "25%        0.000000      0.000000\n",
       "50%        0.000000      0.000000\n",
       "75%        0.000000      0.000000\n",
       "max    23269.000000  11634.000000"
      ]
     },
     "execution_count": 763,
     "metadata": {},
     "output_type": "execute_result"
    }
   ],
   "source": [
    "# The data is skewed because most of it is zeros:\n",
    "df_measured_2min.describe()"
   ]
  },
  {
   "cell_type": "code",
   "execution_count": 764,
   "metadata": {
    "scrolled": true
   },
   "outputs": [
    {
     "data": {
      "text/html": [
       "<div>\n",
       "<style scoped>\n",
       "    .dataframe tbody tr th:only-of-type {\n",
       "        vertical-align: middle;\n",
       "    }\n",
       "\n",
       "    .dataframe tbody tr th {\n",
       "        vertical-align: top;\n",
       "    }\n",
       "\n",
       "    .dataframe thead th {\n",
       "        text-align: right;\n",
       "    }\n",
       "</style>\n",
       "<table border=\"1\" class=\"dataframe\">\n",
       "  <thead>\n",
       "    <tr style=\"text-align: right;\">\n",
       "      <th></th>\n",
       "      <th>2min_count</th>\n",
       "      <th>rpm</th>\n",
       "    </tr>\n",
       "  </thead>\n",
       "  <tbody>\n",
       "    <tr>\n",
       "      <th>count</th>\n",
       "      <td>609.000000</td>\n",
       "      <td>609.000000</td>\n",
       "    </tr>\n",
       "    <tr>\n",
       "      <th>mean</th>\n",
       "      <td>10608.612479</td>\n",
       "      <td>5304.338259</td>\n",
       "    </tr>\n",
       "    <tr>\n",
       "      <th>std</th>\n",
       "      <td>6466.593164</td>\n",
       "      <td>3233.305338</td>\n",
       "    </tr>\n",
       "    <tr>\n",
       "      <th>min</th>\n",
       "      <td>206.000000</td>\n",
       "      <td>103.000000</td>\n",
       "    </tr>\n",
       "    <tr>\n",
       "      <th>25%</th>\n",
       "      <td>4013.000000</td>\n",
       "      <td>2006.000000</td>\n",
       "    </tr>\n",
       "    <tr>\n",
       "      <th>50%</th>\n",
       "      <td>12515.000000</td>\n",
       "      <td>6258.000000</td>\n",
       "    </tr>\n",
       "    <tr>\n",
       "      <th>75%</th>\n",
       "      <td>16759.000000</td>\n",
       "      <td>8380.000000</td>\n",
       "    </tr>\n",
       "    <tr>\n",
       "      <th>max</th>\n",
       "      <td>23269.000000</td>\n",
       "      <td>11634.000000</td>\n",
       "    </tr>\n",
       "  </tbody>\n",
       "</table>\n",
       "</div>"
      ],
      "text/plain": [
       "         2min_count           rpm\n",
       "count    609.000000    609.000000\n",
       "mean   10608.612479   5304.338259\n",
       "std     6466.593164   3233.305338\n",
       "min      206.000000    103.000000\n",
       "25%     4013.000000   2006.000000\n",
       "50%    12515.000000   6258.000000\n",
       "75%    16759.000000   8380.000000\n",
       "max    23269.000000  11634.000000"
      ]
     },
     "execution_count": 764,
     "metadata": {},
     "output_type": "execute_result"
    }
   ],
   "source": [
    "# Filter out all zeros and very low RPMs and look at it again:\n",
    "df_measured_nozeros = df_measured_2min[df_measured_2min['rpm'] > 100]\n",
    "df_measured_nozeros.describe()"
   ]
  },
  {
   "cell_type": "code",
   "execution_count": 765,
   "metadata": {},
   "outputs": [],
   "source": [
    "# pivot_ui(df_measured_nozeros, \n",
    "#          rows=['2min_count'],\n",
    "#          rendererName=\"Table\",\n",
    "#          aggregatorName=\"Count\")"
   ]
  },
  {
   "cell_type": "code",
   "execution_count": 766,
   "metadata": {},
   "outputs": [
    {
     "data": {
      "text/plain": [
       "<matplotlib.axes._subplots.AxesSubplot at 0x112babac8>"
      ]
     },
     "execution_count": 766,
     "metadata": {},
     "output_type": "execute_result"
    },
    {
     "data": {
      "image/png": "[encoded data removed]",
      "text/plain": [
       "<matplotlib.figure.Figure at 0x112bb1f98>"
      ]
     },
     "metadata": {},
     "output_type": "display_data"
    }
   ],
   "source": [
    "# Plot histogram of rpm including zeros\n",
    "df_measured_2min.plot.hist(y='rpm', figsize=(20, 4))"
   ]
  },
  {
   "cell_type": "code",
   "execution_count": 767,
   "metadata": {},
   "outputs": [
    {
     "data": {
      "text/plain": [
       "<matplotlib.axes._subplots.AxesSubplot at 0x1a1a7cb2b0>"
      ]
     },
     "execution_count": 767,
     "metadata": {},
     "output_type": "execute_result"
    },
    {
     "data": {
      "image/png": "[encoded data removed]",
      "text/plain": [
       "<matplotlib.figure.Figure at 0x10f0c87b8>"
      ]
     },
     "metadata": {},
     "output_type": "display_data"
    }
   ],
   "source": [
    "# Plot histogram of rpm excluding zeros and low RPMs\n",
    "df_measured_nozeros.plot.hist(y='rpm', figsize=(20, 4))"
   ]
  },
  {
   "cell_type": "code",
   "execution_count": 768,
   "metadata": {},
   "outputs": [
    {
     "data": {
      "text/plain": [
       "8530"
      ]
     },
     "execution_count": 768,
     "metadata": {},
     "output_type": "execute_result"
    }
   ],
   "source": [
    "# Most common value (mode):\n",
    "df_measured_nozeros['rpm'].value_counts().idxmax()"
   ]
  },
  {
   "cell_type": "markdown",
   "metadata": {},
   "source": [
    "#### Thoughts\n",
    "* We're seeing the RPM average and mode as ~1000. We think the max RPM is 2200. We are measuring rotations every 2 minutes but 2 minutes is fairly long. Is it possible these mills cycle on and off (or low) within those 2 minutes? For example, they could run at max for 30 seconds, spin down to low RPMs for 30, then spin back up to max continuously? \n",
    "    1. The data could support that type of cycling if that behavior was programmed into the mill\n",
    "    2. The data is too consistent to support people manually cycling these mills. I would expect more variance in the distributions of RPMs.\n",
    "\n",
    "#### Questions:\n",
    "* Do I want to split this into rpm quintiles (fifths) so I can look at the 80% usage as max load? Not really - how people normally operate the mill is independent of the kW or throughput based on RPM. \n",
    "* Let's say this mill is 16.2kW @ 2200 RPM. \n",
    "* How do I resample from 2 min data to 1 hour intervals? With the welder, we considered it either \"on\" or \"off\" and those can add. We can't sum RPMs. So for every 2 min interval, do I assign it a usage percent? So if maxed out, 1. If running at 80%, assign it to 0.8. What do I use as 100%\n"
   ]
  },
  {
   "cell_type": "markdown",
   "metadata": {},
   "source": [
    "## Approach to convert RPM to unitless usage counts\n",
    "RPMs relate to 3 quantities that we care about:\n",
    "* kW\n",
    "* kWh\n",
    "* Grain throughput\n",
    "\n",
    "These quantities are directly related to costs and revenue for the appliance owner and grid operator. We have measured revolution count in 2-minute intervals. The average RPM is half the number of mill revolutions.\n",
    "\n",
    "However, if we want to work with hourly intervals, then we can't add up RPMs to get the total RPMs within an hour. We have a few options:\n",
    "1. Average the RPMs across the hour. If the mill runs for 30 minutes at 1200 RPMs, then the average would be 600 RPMs. Grain throughput and kW likely have a non-linear relationship to RPMs, so this would really distort the results.\n",
    "2. Assign a unitless usage value to each minute interval. If the mill is running at full production (throughput and kW), then we can assign it a value of 1 (2 for a 2-minute interval). If the mill is running at 80%, we can assign it 0.8 and so on. In order to do this we need to know the relationship between RPM, throughput and kW. \n",
    "\n",
    "The second approach is what I will use.\n",
    "\n",
    "### Throughput vs. kW\n",
    "To calculate kW (and therefore kWh) and throughput, we need to know how RPM relates to these two factors. It's possible that you could use the same utilization factor to calculate both, but we (I) have no reason to assume that. So we will calculate different utilization factors for kW and throughput."
   ]
  },
  {
   "cell_type": "markdown",
   "metadata": {},
   "source": [
    "## RPM to unitless utilization factors\n",
    "This mill is likely rated at 16.2kW @ 2200 RPM. Let's assume some function that relates it's utilization given an RPM."
   ]
  },
  {
   "cell_type": "code",
   "execution_count": 769,
   "metadata": {},
   "outputs": [
    {
     "data": {
      "text/plain": [
       "1.00991"
      ]
     },
     "execution_count": 769,
     "metadata": {},
     "output_type": "execute_result"
    }
   ],
   "source": [
    "# Until we can get ahold of performance curves for rpm vs kW and rpm vs throughput,\n",
    "# let's take an educated guess at how they relate.\n",
    "# We may want to filter very low RPMs out. A slow motor still uses power and mills grain, \n",
    "# so I don't know what the cutoff would be.\n",
    "\n",
    "# This is the function from Amanda's spreadsheet. \n",
    "def rpm_to_kw_utilization(rpm, full_capacity=1110):\n",
    "    \"\"\"\n",
    "    Convert RPM to a kW utilization factor. \n",
    "    \"\"\"\n",
    "    return round(rpm / full_capacity, 5)\n",
    "\n",
    "rpm_to_kw_utilization(1121)"
   ]
  },
  {
   "cell_type": "code",
   "execution_count": 770,
   "metadata": {},
   "outputs": [
    {
     "data": {
      "text/plain": [
       "1.00991"
      ]
     },
     "execution_count": 770,
     "metadata": {},
     "output_type": "execute_result"
    }
   ],
   "source": [
    "# Until we have better data, assume the utilization factors are the \n",
    "# same between kW and grain\n",
    "def rpm_to_grain_utilization(rpm, full_capacity=1110):\n",
    "    \"\"\"\n",
    "    Convert RPM to a grain milled utilization factor\n",
    "    \"\"\"\n",
    "    return round(rpm / full_capacity, 5)\n",
    "\n",
    "rpm_to_grain_utilization(1121)"
   ]
  },
  {
   "cell_type": "code",
   "execution_count": 771,
   "metadata": {},
   "outputs": [
    {
     "data": {
      "text/html": [
       "<div>\n",
       "<style scoped>\n",
       "    .dataframe tbody tr th:only-of-type {\n",
       "        vertical-align: middle;\n",
       "    }\n",
       "\n",
       "    .dataframe tbody tr th {\n",
       "        vertical-align: top;\n",
       "    }\n",
       "\n",
       "    .dataframe thead th {\n",
       "        text-align: right;\n",
       "    }\n",
       "</style>\n",
       "<table border=\"1\" class=\"dataframe\">\n",
       "  <thead>\n",
       "    <tr style=\"text-align: right;\">\n",
       "      <th></th>\n",
       "      <th>time_gmt</th>\n",
       "      <th>2min_count</th>\n",
       "      <th>time_local</th>\n",
       "      <th>rpm</th>\n",
       "      <th>kw_factor</th>\n",
       "      <th>grain_factor</th>\n",
       "    </tr>\n",
       "  </thead>\n",
       "  <tbody>\n",
       "  </tbody>\n",
       "</table>\n",
       "</div>"
      ],
      "text/plain": [
       "Empty DataFrame\n",
       "Columns: [time_gmt, 2min_count, time_local, rpm, kw_factor, grain_factor]\n",
       "Index: []"
      ]
     },
     "execution_count": 771,
     "metadata": {},
     "output_type": "execute_result"
    }
   ],
   "source": [
    "# The utilization factors relate RPMs to kW (or throughput) for *one minute*.\n",
    "# We are working with 2 minute intervals, so we need to account for both\n",
    "# minutes of usage by multiplying the factor by 2.\n",
    "df_measured_2min['kw_factor'] = df_measured_2min['rpm'] \\\n",
    "                                        .apply(rpm_to_kw_utilization) \\\n",
    "                                        .apply(lambda factor: 2 * factor)\n",
    "df_measured_2min['grain_factor'] = df_measured_2min['rpm'] \\\n",
    "                                        .apply(rpm_to_grain_utilization) \\\n",
    "                                        .apply(lambda factor: 2 * factor)\n",
    "df_measured_2min[30279:30290]"
   ]
  },
  {
   "cell_type": "markdown",
   "metadata": {},
   "source": [
    "## Resample 2 minute to hourly intervals"
   ]
  },
  {
   "cell_type": "code",
   "execution_count": 772,
   "metadata": {},
   "outputs": [
    {
     "data": {
      "text/html": [
       "<div>\n",
       "<style scoped>\n",
       "    .dataframe tbody tr th:only-of-type {\n",
       "        vertical-align: middle;\n",
       "    }\n",
       "\n",
       "    .dataframe tbody tr th {\n",
       "        vertical-align: top;\n",
       "    }\n",
       "\n",
       "    .dataframe thead th {\n",
       "        text-align: right;\n",
       "    }\n",
       "</style>\n",
       "<table border=\"1\" class=\"dataframe\">\n",
       "  <thead>\n",
       "    <tr style=\"text-align: right;\">\n",
       "      <th></th>\n",
       "      <th>time_gmt</th>\n",
       "      <th>2min_count</th>\n",
       "      <th>rpm</th>\n",
       "      <th>kw_factor</th>\n",
       "      <th>grain_factor</th>\n",
       "    </tr>\n",
       "    <tr>\n",
       "      <th>time_local</th>\n",
       "      <th></th>\n",
       "      <th></th>\n",
       "      <th></th>\n",
       "      <th></th>\n",
       "      <th></th>\n",
       "    </tr>\n",
       "  </thead>\n",
       "  <tbody>\n",
       "  </tbody>\n",
       "</table>\n",
       "</div>"
      ],
      "text/plain": [
       "Empty DataFrame\n",
       "Columns: [time_gmt, 2min_count, rpm, kw_factor, grain_factor]\n",
       "Index: []"
      ]
     },
     "execution_count": 772,
     "metadata": {},
     "output_type": "execute_result"
    }
   ],
   "source": [
    "# First we need to set the dataframe index to be the time_local datetime\n",
    "df_measured_2min_index = df_measured_2min.set_index('time_local')\n",
    "df_measured_2min_index[30279:30283]"
   ]
  },
  {
   "cell_type": "code",
   "execution_count": 773,
   "metadata": {},
   "outputs": [
    {
     "data": {
      "text/plain": [
       "(15879, 5)"
      ]
     },
     "execution_count": 773,
     "metadata": {},
     "output_type": "execute_result"
    }
   ],
   "source": [
    "df_measured_2min_index.shape"
   ]
  },
  {
   "cell_type": "code",
   "execution_count": 774,
   "metadata": {
    "scrolled": true
   },
   "outputs": [
    {
     "data": {
      "text/plain": [
       "(529, 3)"
      ]
     },
     "execution_count": 774,
     "metadata": {},
     "output_type": "execute_result"
    }
   ],
   "source": [
    "# Resample while summing every 2-min interval within an hour ('H')\n",
    "# Drop the now-unused 2min_count\n",
    "# GMT time will automatically be dropped since you can't sum it\n",
    "df_measured = df_measured_2min_index.resample('H').sum().drop(columns=['2min_count'])\n",
    "\n",
    "df_measured.shape  # (rows, columns) where column count doesn't include the index"
   ]
  },
  {
   "cell_type": "markdown",
   "metadata": {},
   "source": [
    "## Add hour, day of week, day_hour columns \n",
    "These columns will be used later for generating yearly usage profile and aggregate stats."
   ]
  },
  {
   "cell_type": "code",
   "execution_count": 775,
   "metadata": {},
   "outputs": [],
   "source": [
    "# Helper functions for making and matching day_hour columns\n",
    "\n",
    "def shorten_day_name(day_string):\n",
    "    \"\"\"Shorten a day name to the first 4 letters (1Saturday => 1sat)\n",
    "    This requires a string passed in.\n",
    "    \"\"\"\n",
    "    return day_string[0:4].lower()\n",
    "\n",
    "def composite_val(day_name, hour):\n",
    "    \"\"\"Generate a composite string value that can be used for dictionary \n",
    "    keys or other uses.\n",
    "    For example, 1Saturday at 10am => 1sat_10\n",
    "    \"\"\"\n",
    "    padded_hour = str(hour).zfill(2)\n",
    "    return \"{}_{}\".format(shorten_day_name(day_name), padded_hour)"
   ]
  },
  {
   "cell_type": "code",
   "execution_count": 776,
   "metadata": {},
   "outputs": [
    {
     "data": {
      "text/html": [
       "<div>\n",
       "<style scoped>\n",
       "    .dataframe tbody tr th:only-of-type {\n",
       "        vertical-align: middle;\n",
       "    }\n",
       "\n",
       "    .dataframe tbody tr th {\n",
       "        vertical-align: top;\n",
       "    }\n",
       "\n",
       "    .dataframe thead th {\n",
       "        text-align: right;\n",
       "    }\n",
       "</style>\n",
       "<table border=\"1\" class=\"dataframe\">\n",
       "  <thead>\n",
       "    <tr style=\"text-align: right;\">\n",
       "      <th></th>\n",
       "      <th>rpm</th>\n",
       "      <th>kw_factor</th>\n",
       "      <th>grain_factor</th>\n",
       "      <th>day</th>\n",
       "      <th>hour_of_day</th>\n",
       "      <th>day_hour</th>\n",
       "    </tr>\n",
       "    <tr>\n",
       "      <th>time_local</th>\n",
       "      <th></th>\n",
       "      <th></th>\n",
       "      <th></th>\n",
       "      <th></th>\n",
       "      <th></th>\n",
       "      <th></th>\n",
       "    </tr>\n",
       "  </thead>\n",
       "  <tbody>\n",
       "    <tr>\n",
       "      <th>2018-09-26 12:00:00+03:00</th>\n",
       "      <td>140982</td>\n",
       "      <td>254.02164</td>\n",
       "      <td>254.02164</td>\n",
       "      <td>2wed</td>\n",
       "      <td>12</td>\n",
       "      <td>2wed_12</td>\n",
       "    </tr>\n",
       "    <tr>\n",
       "      <th>2018-09-22 18:00:00+03:00</th>\n",
       "      <td>0</td>\n",
       "      <td>0.00000</td>\n",
       "      <td>0.00000</td>\n",
       "      <td>5sat</td>\n",
       "      <td>18</td>\n",
       "      <td>5sat_18</td>\n",
       "    </tr>\n",
       "    <tr>\n",
       "      <th>2018-09-10 16:00:00+03:00</th>\n",
       "      <td>0</td>\n",
       "      <td>0.00000</td>\n",
       "      <td>0.00000</td>\n",
       "      <td>0mon</td>\n",
       "      <td>16</td>\n",
       "      <td>0mon_16</td>\n",
       "    </tr>\n",
       "    <tr>\n",
       "      <th>2018-09-17 11:00:00+03:00</th>\n",
       "      <td>0</td>\n",
       "      <td>0.00000</td>\n",
       "      <td>0.00000</td>\n",
       "      <td>0mon</td>\n",
       "      <td>11</td>\n",
       "      <td>0mon_11</td>\n",
       "    </tr>\n",
       "    <tr>\n",
       "      <th>2018-09-08 05:00:00+03:00</th>\n",
       "      <td>0</td>\n",
       "      <td>0.00000</td>\n",
       "      <td>0.00000</td>\n",
       "      <td>5sat</td>\n",
       "      <td>5</td>\n",
       "      <td>5sat_05</td>\n",
       "    </tr>\n",
       "    <tr>\n",
       "      <th>2018-09-12 18:00:00+03:00</th>\n",
       "      <td>0</td>\n",
       "      <td>0.00000</td>\n",
       "      <td>0.00000</td>\n",
       "      <td>2wed</td>\n",
       "      <td>18</td>\n",
       "      <td>2wed_18</td>\n",
       "    </tr>\n",
       "    <tr>\n",
       "      <th>2018-09-12 05:00:00+03:00</th>\n",
       "      <td>0</td>\n",
       "      <td>0.00000</td>\n",
       "      <td>0.00000</td>\n",
       "      <td>2wed</td>\n",
       "      <td>5</td>\n",
       "      <td>2wed_05</td>\n",
       "    </tr>\n",
       "    <tr>\n",
       "      <th>2018-09-25 02:00:00+03:00</th>\n",
       "      <td>0</td>\n",
       "      <td>0.00000</td>\n",
       "      <td>0.00000</td>\n",
       "      <td>1tue</td>\n",
       "      <td>2</td>\n",
       "      <td>1tue_02</td>\n",
       "    </tr>\n",
       "    <tr>\n",
       "      <th>2018-09-10 11:00:00+03:00</th>\n",
       "      <td>34140</td>\n",
       "      <td>61.51352</td>\n",
       "      <td>61.51352</td>\n",
       "      <td>0mon</td>\n",
       "      <td>11</td>\n",
       "      <td>0mon_11</td>\n",
       "    </tr>\n",
       "    <tr>\n",
       "      <th>2018-09-29 21:00:00+03:00</th>\n",
       "      <td>0</td>\n",
       "      <td>0.00000</td>\n",
       "      <td>0.00000</td>\n",
       "      <td>5sat</td>\n",
       "      <td>21</td>\n",
       "      <td>5sat_21</td>\n",
       "    </tr>\n",
       "  </tbody>\n",
       "</table>\n",
       "</div>"
      ],
      "text/plain": [
       "                              rpm  kw_factor  grain_factor   day  hour_of_day  \\\n",
       "time_local                                                                      \n",
       "2018-09-26 12:00:00+03:00  140982  254.02164     254.02164  2wed           12   \n",
       "2018-09-22 18:00:00+03:00       0    0.00000       0.00000  5sat           18   \n",
       "2018-09-10 16:00:00+03:00       0    0.00000       0.00000  0mon           16   \n",
       "2018-09-17 11:00:00+03:00       0    0.00000       0.00000  0mon           11   \n",
       "2018-09-08 05:00:00+03:00       0    0.00000       0.00000  5sat            5   \n",
       "2018-09-12 18:00:00+03:00       0    0.00000       0.00000  2wed           18   \n",
       "2018-09-12 05:00:00+03:00       0    0.00000       0.00000  2wed            5   \n",
       "2018-09-25 02:00:00+03:00       0    0.00000       0.00000  1tue            2   \n",
       "2018-09-10 11:00:00+03:00   34140   61.51352      61.51352  0mon           11   \n",
       "2018-09-29 21:00:00+03:00       0    0.00000       0.00000  5sat           21   \n",
       "\n",
       "                          day_hour  \n",
       "time_local                          \n",
       "2018-09-26 12:00:00+03:00  2wed_12  \n",
       "2018-09-22 18:00:00+03:00  5sat_18  \n",
       "2018-09-10 16:00:00+03:00  0mon_16  \n",
       "2018-09-17 11:00:00+03:00  0mon_11  \n",
       "2018-09-08 05:00:00+03:00  5sat_05  \n",
       "2018-09-12 18:00:00+03:00  2wed_18  \n",
       "2018-09-12 05:00:00+03:00  2wed_05  \n",
       "2018-09-25 02:00:00+03:00  1tue_02  \n",
       "2018-09-10 11:00:00+03:00  0mon_11  \n",
       "2018-09-29 21:00:00+03:00  5sat_21  "
      ]
     },
     "execution_count": 776,
     "metadata": {},
     "output_type": "execute_result"
    }
   ],
   "source": [
    "# Add the name of the day of the week to the dataframe (Saturday).\n",
    "# Prepend that name with a number of the day of the week.\n",
    "# Monday is 0, Tuesday is 1 and so on. This will allows tools to \n",
    "# order the days so they are in order: 0Monday, 1Tuesday, otherwise \n",
    "# they will be ordered alphabetical.\n",
    "df_measured[\"day\"] = df_measured.index.dayofweek.map(str) + df_measured.index.day_name()\n",
    "df_measured[\"day\"] = df_measured[\"day\"].apply(shorten_day_name)\n",
    "\n",
    "# Add hour of day (as a number)\n",
    "df_measured['hour_of_day'] = df_measured.index.hour \n",
    "\n",
    "# Add day_hour. For example: 4fri_10\n",
    "# Possible source of confusion: \n",
    "# 4fri is just friday. 4fri_10 is Friday at 10am. \n",
    "df_measured[\"day_hour\"] = df_measured.apply(lambda row: composite_val(row['day'], row['hour_of_day']), axis=1)\n",
    "\n",
    "df_measured.sample(10)"
   ]
  },
  {
   "cell_type": "markdown",
   "metadata": {},
   "source": [
    "## Generate data for yearly usage profile sampling"
   ]
  },
  {
   "cell_type": "code",
   "execution_count": 777,
   "metadata": {},
   "outputs": [],
   "source": [
    "def create_usage_profile_data(df, column):\n",
    "    \"\"\"\n",
    "    Create a dictionary, where each key is a day_hour and each value \n",
    "    is a list of measured welder_on_count values. \n",
    "    Takes a Pandas dataframe and returns a python dictionary that can be \n",
    "    encoded into JSON for other applications.\n",
    "    We may be able to use groupby for a more succinct function, but this works\n",
    "    \"\"\"\n",
    "    dict = defaultdict(list)\n",
    "    for index, row in df.iterrows():\n",
    "        key = row['day_hour']\n",
    "        dict[key].append(row[column])\n",
    "    return dict"
   ]
  },
  {
   "cell_type": "code",
   "execution_count": 778,
   "metadata": {},
   "outputs": [
    {
     "data": {
      "text/plain": [
       "defaultdict(list,\n",
       "            {'0mon_00': [0.0, 0.0, 0.0],\n",
       "             '0mon_01': [0.0, 0.0, 0.0054],\n",
       "             '0mon_02': [0.0, 0.0, 0.0],\n",
       "             '0mon_03': [0.0, 0.0, 0.0],\n",
       "             '0mon_04': [0.0, 0.0036, 0.0],\n",
       "             '0mon_05': [26.4955, 13.403600000000003, 36.26664],\n",
       "             '0mon_06': [38.17296, 5.22882, 96.62880000000001],\n",
       "             '0mon_07': [0.0, 9.3153, 47.66665999999999],\n",
       "             '0mon_08': [0.0, 0.0, 0.0],\n",
       "             '0mon_09': [0.009, 0.01442, 13.664860000000001],\n",
       "             '0mon_10': [58.71172, 3.16578, 0.0],\n",
       "             '0mon_11': [61.51352000000001, 0.0, 0.0],\n",
       "             '0mon_12': [263.009, 0.84686, 136.70808],\n",
       "             '0mon_13': [226.61802, 30.250439999999998, 88.39282000000001],\n",
       "             '0mon_14': [0.0, 0.0, 0.0],\n",
       "             '0mon_15': [0.0, 0.0, 0.0],\n",
       "             '0mon_16': [0.0, 0.0, 0.0],\n",
       "             '0mon_17': [0.0, 0.0, 0.0],\n",
       "             '0mon_18': [0.0, 0.0, 0.0],\n",
       "             '0mon_19': [0.0, 0.0, 0.0],\n",
       "             '0mon_20': [0.0, 0.0, 0.0],\n",
       "             '0mon_21': [0.0, 0.0, 0.0],\n",
       "             '0mon_22': [0.0, 0.0, 0.0],\n",
       "             '0mon_23': [0.0, 0.0, 0.0],\n",
       "             '1tue_00': [0.0, 0.0, 0.0],\n",
       "             '1tue_01': [0.0, 0.0, 0.0],\n",
       "             '1tue_02': [0.0, 0.0, 0.0],\n",
       "             '1tue_03': [49.37656, 0.0, 0.0],\n",
       "             '1tue_04': [52.64144, 2.34234, 74.05408],\n",
       "             '1tue_05': [27.56038, 0.009, 0.0],\n",
       "             '1tue_06': [85.66304000000001, 0.0, 41.56756],\n",
       "             '1tue_07': [62.54414, 0.0, 26.875680000000003],\n",
       "             '1tue_08': [0.02522, 0.0, 0.0],\n",
       "             '1tue_09': [0.0, 0.0, 0.0],\n",
       "             '1tue_10': [40.57298, 0.0, 97.44322],\n",
       "             '1tue_11': [37.42342, 0.0, 15.28288],\n",
       "             '1tue_12': [144.56036, 0.38558, 108.39819999999999],\n",
       "             '1tue_13': [120.57474, 1.0162, 113.08828],\n",
       "             '1tue_14': [0.0, 0.0, 0.0],\n",
       "             '1tue_15': [0.0, 0.0, 0.0],\n",
       "             '1tue_16': [0.0, 0.0, 0.0],\n",
       "             '1tue_17': [0.0, 0.0, 0.0],\n",
       "             '1tue_18': [0.0, 0.0, 0.0],\n",
       "             '1tue_19': [0.0, 0.0, 0.0],\n",
       "             '1tue_20': [0.0, 0.0, 0.0],\n",
       "             '1tue_21': [0.0, 0.0, 0.0],\n",
       "             '1tue_22': [0.0, 0.0, 0.0],\n",
       "             '1tue_23': [0.0, 0.0, 0.0],\n",
       "             '2wed_00': [0.0, 0.0, 0.0],\n",
       "             '2wed_01': [0.0, 0.0, 0.0],\n",
       "             '2wed_02': [12.64506, 11.56396, 0.0],\n",
       "             '2wed_03': [0.0, 0.88468, 66.48648],\n",
       "             '2wed_04': [0.0, 0.0, 0.0],\n",
       "             '2wed_05': [0.0, 0.0, 0.0],\n",
       "             '2wed_06': [0.0, 0.0, 27.329739999999997],\n",
       "             '2wed_07': [0.0, 0.0, 14.42342],\n",
       "             '2wed_08': [0.0, 0.0, 0.0],\n",
       "             '2wed_09': [0.0, 0.0, 0.0],\n",
       "             '2wed_10': [0.0, 0.0, 0.0],\n",
       "             '2wed_11': [0.0, 0.0, 80.8],\n",
       "             '2wed_12': [0.98018, 0.0, 254.02164],\n",
       "             '2wed_13': [19.59276, 0.0, 58.554959999999994],\n",
       "             '2wed_14': [0.0, 0.0, 0.0],\n",
       "             '2wed_15': [0.0, 0.0, 0.0],\n",
       "             '2wed_16': [0.0, 0.0, 0.0],\n",
       "             '2wed_17': [0.0, 0.0, 0.0],\n",
       "             '2wed_18': [0.0, 0.0, 0.0],\n",
       "             '2wed_19': [0.0, 0.0, 0.0],\n",
       "             '2wed_20': [0.0, 0.0, 0.0],\n",
       "             '2wed_21': [0.0, 0.0, 0.0],\n",
       "             '2wed_22': [0.0, 0.0, 0.0],\n",
       "             '2wed_23': [0.0, 0.0, 0.0],\n",
       "             '3thu_00': [0.0, 0.0, 0.0],\n",
       "             '3thu_01': [0.0, 0.0, 0.0],\n",
       "             '3thu_02': [3.5351399999999997, 0.0, 0.0],\n",
       "             '3thu_03': [0.009, 0.0, 0.0],\n",
       "             '3thu_04': [15.356760000000001, 0.0, 84.76217999999999],\n",
       "             '3thu_05': [2.04502, 0.0, 36.7982],\n",
       "             '3thu_06': [0.0, 0.0, 16.699099999999998],\n",
       "             '3thu_07': [0.0, 0.0, 0.0],\n",
       "             '3thu_08': [0.0, 0.0, 0.0],\n",
       "             '3thu_09': [0.0, 0.0, 33.2126],\n",
       "             '3thu_10': [21.62884, 0.0, 34.88648],\n",
       "             '3thu_11': [59.7892, 0.0, 36.27746],\n",
       "             '3thu_12': [50.28106, 0.0, 213.69371999999998],\n",
       "             '3thu_13': [114.4036, 0.0, 97.92252],\n",
       "             '3thu_14': [0.0, 0.0, 0.0],\n",
       "             '3thu_15': [0.0, 0.0, 0.0],\n",
       "             '3thu_16': [0.0, 0.0, 0.0],\n",
       "             '3thu_17': [0.0, 0.0, 0.0],\n",
       "             '3thu_18': [0.0, 0.0, 0.0],\n",
       "             '3thu_19': [0.0, 0.0, 0.0],\n",
       "             '3thu_20': [0.0, 0.0, 0.0],\n",
       "             '3thu_21': [0.0, 0.0, 0.0],\n",
       "             '3thu_22': [0.0, 0.0, 0.0],\n",
       "             '3thu_23': [0.0, 0.0, 0.0],\n",
       "             '4fri_00': [0.0, 0.0, 0.0],\n",
       "             '4fri_01': [0.0, 0.0, 0.0],\n",
       "             '4fri_02': [0.0, 0.0, 17.11352],\n",
       "             '4fri_03': [4.43964, 0.0, 72.65764000000001],\n",
       "             '4fri_04': [33.89188, 0.0, 0.0],\n",
       "             '4fri_05': [0.0, 0.0, 8.019820000000001],\n",
       "             '4fri_06': [16.83966, 0.0, 0.0],\n",
       "             '4fri_07': [0.0, 0.0, 27.36756],\n",
       "             '4fri_08': [0.0, 0.0, 25.14234],\n",
       "             '4fri_09': [0.0, 0.0, 0.0],\n",
       "             '4fri_10': [0.0, 0.0, 33.335139999999996],\n",
       "             '4fri_11': [0.01082, 0.0, 76.4739],\n",
       "             '4fri_12': [1.1693999999999998, 0.0, 224.38374000000005],\n",
       "             '4fri_13': [54.95316, 0.0, 97.07388],\n",
       "             '4fri_14': [0.0, 0.0, 0.0],\n",
       "             '4fri_15': [0.0, 0.0, 0.0],\n",
       "             '4fri_16': [0.0, 0.0, 0.0],\n",
       "             '4fri_17': [0.0036, 0.0, 0.0],\n",
       "             '4fri_18': [0.0, 0.0, 0.0],\n",
       "             '4fri_19': [0.0, 0.0, 0.0],\n",
       "             '4fri_20': [0.0, 0.0, 0.0],\n",
       "             '4fri_21': [0.0, 0.0, 0.0],\n",
       "             '4fri_22': [0.0, 0.0, 0.0],\n",
       "             '4fri_23': [0.0, 0.0, 0.0],\n",
       "             '5sat_00': [0.0, 0.0, 0.0],\n",
       "             '5sat_01': [0.0, 0.0, 0.0],\n",
       "             '5sat_02': [0.0, 48.44146, 0.0, 36.28830000000001],\n",
       "             '5sat_03': [0.0, 0.0, 0.0, 0.0],\n",
       "             '5sat_04': [0.0, 14.63782, 0.0, 0.0],\n",
       "             '5sat_05': [0.0, 0.0, 0.0, 71.74774000000001],\n",
       "             '5sat_06': [0.0, 0.0, 0.0, 0.03422],\n",
       "             '5sat_07': [0.16396, 1.17656, 0.0, 11.64506],\n",
       "             '5sat_08': [0.019819999999999997, 0.72792, 0.0, 0.0],\n",
       "             '5sat_09': [22.7027, 0.0, 0.0, 0.0],\n",
       "             '5sat_10': [0.0, 0.33154, 0.0, 0.0],\n",
       "             '5sat_11': [0.0, 0.2054, 0.0, 129.75494],\n",
       "             '5sat_12': [0.0, 1.4378199999999999, 0.0, 195.37655999999998],\n",
       "             '5sat_13': [0.0036, 0.58738, 0.0, 47.53152],\n",
       "             '5sat_14': [0.0, 0.0, 0.0, 0.0],\n",
       "             '5sat_15': [0.0, 0.0, 0.0, 0.0],\n",
       "             '5sat_16': [0.0, 0.0, 0.0, 0.0],\n",
       "             '5sat_17': [0.0, 0.0, 0.0, 0.0],\n",
       "             '5sat_18': [0.0, 0.0, 0.0, 0.0],\n",
       "             '5sat_19': [0.0, 0.0, 0.0, 0.0],\n",
       "             '5sat_20': [0.0, 0.0, 0.0, 0.0],\n",
       "             '5sat_21': [0.0, 0.0, 0.0, 0.0],\n",
       "             '5sat_22': [0.0, 0.0, 0.0, 0.0],\n",
       "             '5sat_23': [0.0, 0.0, 0.0, 0.0],\n",
       "             '6sun_00': [0.0, 0.0, 0.0, 0.0],\n",
       "             '6sun_01': [0.0, 3.51172, 0.0, 27.78378],\n",
       "             '6sun_02': [0.0018, 1.9063, 0.0, 0.0],\n",
       "             '6sun_03': [0.0, 28.03966, 0.0],\n",
       "             '6sun_04': [0.0, 0.0, 0.0],\n",
       "             '6sun_05': [0.0, 0.0, 0.0036],\n",
       "             '6sun_06': [73.6072, 0.0018, 0.0],\n",
       "             '6sun_07': [47.0847, 0.24864, 0.0],\n",
       "             '6sun_08': [12.8973, 0.01802, 0.0],\n",
       "             '6sun_09': [27.353160000000003, 0.0, 0.0],\n",
       "             '6sun_10': [37.0036, 2.02162, 0.15496],\n",
       "             '6sun_11': [114.48106, 0.0072, 0.0072],\n",
       "             '6sun_12': [220.18738000000002, 0.15856, 56.73694],\n",
       "             '6sun_13': [112.91167999999999, 0.05406, 145.88652000000002],\n",
       "             '6sun_14': [12.21442, 0.0, 0.0],\n",
       "             '6sun_15': [0.0, 0.0, 0.0],\n",
       "             '6sun_16': [0.0, 0.0, 0.0],\n",
       "             '6sun_17': [0.0, 0.0, 0.0],\n",
       "             '6sun_18': [0.0, 0.0, 0.0],\n",
       "             '6sun_19': [0.0, 0.0, 0.0],\n",
       "             '6sun_20': [0.0, 0.0, 0.0],\n",
       "             '6sun_21': [0.0, 0.0, 0.0],\n",
       "             '6sun_22': [0.0, 0.0, 0.0],\n",
       "             '6sun_23': [0.0, 0.0, 0.0]})"
      ]
     },
     "execution_count": 778,
     "metadata": {},
     "output_type": "execute_result"
    }
   ],
   "source": [
    "measured_usage_kw_factors = create_usage_profile_data(df_measured, 'kw_factor')\n",
    "measured_usage_kw_factors"
   ]
  },
  {
   "cell_type": "code",
   "execution_count": 779,
   "metadata": {},
   "outputs": [
    {
     "data": {
      "text/plain": [
       "defaultdict(list,\n",
       "            {'0mon_00': [0.0, 0.0, 0.0],\n",
       "             '0mon_01': [0.0, 0.0, 0.0054],\n",
       "             '0mon_02': [0.0, 0.0, 0.0],\n",
       "             '0mon_03': [0.0, 0.0, 0.0],\n",
       "             '0mon_04': [0.0, 0.0036, 0.0],\n",
       "             '0mon_05': [26.4955, 13.403600000000003, 36.26664],\n",
       "             '0mon_06': [38.17296, 5.22882, 96.62880000000001],\n",
       "             '0mon_07': [0.0, 9.3153, 47.66665999999999],\n",
       "             '0mon_08': [0.0, 0.0, 0.0],\n",
       "             '0mon_09': [0.009, 0.01442, 13.664860000000001],\n",
       "             '0mon_10': [58.71172, 3.16578, 0.0],\n",
       "             '0mon_11': [61.51352000000001, 0.0, 0.0],\n",
       "             '0mon_12': [263.009, 0.84686, 136.70808],\n",
       "             '0mon_13': [226.61802, 30.250439999999998, 88.39282000000001],\n",
       "             '0mon_14': [0.0, 0.0, 0.0],\n",
       "             '0mon_15': [0.0, 0.0, 0.0],\n",
       "             '0mon_16': [0.0, 0.0, 0.0],\n",
       "             '0mon_17': [0.0, 0.0, 0.0],\n",
       "             '0mon_18': [0.0, 0.0, 0.0],\n",
       "             '0mon_19': [0.0, 0.0, 0.0],\n",
       "             '0mon_20': [0.0, 0.0, 0.0],\n",
       "             '0mon_21': [0.0, 0.0, 0.0],\n",
       "             '0mon_22': [0.0, 0.0, 0.0],\n",
       "             '0mon_23': [0.0, 0.0, 0.0],\n",
       "             '1tue_00': [0.0, 0.0, 0.0],\n",
       "             '1tue_01': [0.0, 0.0, 0.0],\n",
       "             '1tue_02': [0.0, 0.0, 0.0],\n",
       "             '1tue_03': [49.37656, 0.0, 0.0],\n",
       "             '1tue_04': [52.64144, 2.34234, 74.05408],\n",
       "             '1tue_05': [27.56038, 0.009, 0.0],\n",
       "             '1tue_06': [85.66304000000001, 0.0, 41.56756],\n",
       "             '1tue_07': [62.54414, 0.0, 26.875680000000003],\n",
       "             '1tue_08': [0.02522, 0.0, 0.0],\n",
       "             '1tue_09': [0.0, 0.0, 0.0],\n",
       "             '1tue_10': [40.57298, 0.0, 97.44322],\n",
       "             '1tue_11': [37.42342, 0.0, 15.28288],\n",
       "             '1tue_12': [144.56036, 0.38558, 108.39819999999999],\n",
       "             '1tue_13': [120.57474, 1.0162, 113.08828],\n",
       "             '1tue_14': [0.0, 0.0, 0.0],\n",
       "             '1tue_15': [0.0, 0.0, 0.0],\n",
       "             '1tue_16': [0.0, 0.0, 0.0],\n",
       "             '1tue_17': [0.0, 0.0, 0.0],\n",
       "             '1tue_18': [0.0, 0.0, 0.0],\n",
       "             '1tue_19': [0.0, 0.0, 0.0],\n",
       "             '1tue_20': [0.0, 0.0, 0.0],\n",
       "             '1tue_21': [0.0, 0.0, 0.0],\n",
       "             '1tue_22': [0.0, 0.0, 0.0],\n",
       "             '1tue_23': [0.0, 0.0, 0.0],\n",
       "             '2wed_00': [0.0, 0.0, 0.0],\n",
       "             '2wed_01': [0.0, 0.0, 0.0],\n",
       "             '2wed_02': [12.64506, 11.56396, 0.0],\n",
       "             '2wed_03': [0.0, 0.88468, 66.48648],\n",
       "             '2wed_04': [0.0, 0.0, 0.0],\n",
       "             '2wed_05': [0.0, 0.0, 0.0],\n",
       "             '2wed_06': [0.0, 0.0, 27.329739999999997],\n",
       "             '2wed_07': [0.0, 0.0, 14.42342],\n",
       "             '2wed_08': [0.0, 0.0, 0.0],\n",
       "             '2wed_09': [0.0, 0.0, 0.0],\n",
       "             '2wed_10': [0.0, 0.0, 0.0],\n",
       "             '2wed_11': [0.0, 0.0, 80.8],\n",
       "             '2wed_12': [0.98018, 0.0, 254.02164],\n",
       "             '2wed_13': [19.59276, 0.0, 58.554959999999994],\n",
       "             '2wed_14': [0.0, 0.0, 0.0],\n",
       "             '2wed_15': [0.0, 0.0, 0.0],\n",
       "             '2wed_16': [0.0, 0.0, 0.0],\n",
       "             '2wed_17': [0.0, 0.0, 0.0],\n",
       "             '2wed_18': [0.0, 0.0, 0.0],\n",
       "             '2wed_19': [0.0, 0.0, 0.0],\n",
       "             '2wed_20': [0.0, 0.0, 0.0],\n",
       "             '2wed_21': [0.0, 0.0, 0.0],\n",
       "             '2wed_22': [0.0, 0.0, 0.0],\n",
       "             '2wed_23': [0.0, 0.0, 0.0],\n",
       "             '3thu_00': [0.0, 0.0, 0.0],\n",
       "             '3thu_01': [0.0, 0.0, 0.0],\n",
       "             '3thu_02': [3.5351399999999997, 0.0, 0.0],\n",
       "             '3thu_03': [0.009, 0.0, 0.0],\n",
       "             '3thu_04': [15.356760000000001, 0.0, 84.76217999999999],\n",
       "             '3thu_05': [2.04502, 0.0, 36.7982],\n",
       "             '3thu_06': [0.0, 0.0, 16.699099999999998],\n",
       "             '3thu_07': [0.0, 0.0, 0.0],\n",
       "             '3thu_08': [0.0, 0.0, 0.0],\n",
       "             '3thu_09': [0.0, 0.0, 33.2126],\n",
       "             '3thu_10': [21.62884, 0.0, 34.88648],\n",
       "             '3thu_11': [59.7892, 0.0, 36.27746],\n",
       "             '3thu_12': [50.28106, 0.0, 213.69371999999998],\n",
       "             '3thu_13': [114.4036, 0.0, 97.92252],\n",
       "             '3thu_14': [0.0, 0.0, 0.0],\n",
       "             '3thu_15': [0.0, 0.0, 0.0],\n",
       "             '3thu_16': [0.0, 0.0, 0.0],\n",
       "             '3thu_17': [0.0, 0.0, 0.0],\n",
       "             '3thu_18': [0.0, 0.0, 0.0],\n",
       "             '3thu_19': [0.0, 0.0, 0.0],\n",
       "             '3thu_20': [0.0, 0.0, 0.0],\n",
       "             '3thu_21': [0.0, 0.0, 0.0],\n",
       "             '3thu_22': [0.0, 0.0, 0.0],\n",
       "             '3thu_23': [0.0, 0.0, 0.0],\n",
       "             '4fri_00': [0.0, 0.0, 0.0],\n",
       "             '4fri_01': [0.0, 0.0, 0.0],\n",
       "             '4fri_02': [0.0, 0.0, 17.11352],\n",
       "             '4fri_03': [4.43964, 0.0, 72.65764000000001],\n",
       "             '4fri_04': [33.89188, 0.0, 0.0],\n",
       "             '4fri_05': [0.0, 0.0, 8.019820000000001],\n",
       "             '4fri_06': [16.83966, 0.0, 0.0],\n",
       "             '4fri_07': [0.0, 0.0, 27.36756],\n",
       "             '4fri_08': [0.0, 0.0, 25.14234],\n",
       "             '4fri_09': [0.0, 0.0, 0.0],\n",
       "             '4fri_10': [0.0, 0.0, 33.335139999999996],\n",
       "             '4fri_11': [0.01082, 0.0, 76.4739],\n",
       "             '4fri_12': [1.1693999999999998, 0.0, 224.38374000000005],\n",
       "             '4fri_13': [54.95316, 0.0, 97.07388],\n",
       "             '4fri_14': [0.0, 0.0, 0.0],\n",
       "             '4fri_15': [0.0, 0.0, 0.0],\n",
       "             '4fri_16': [0.0, 0.0, 0.0],\n",
       "             '4fri_17': [0.0036, 0.0, 0.0],\n",
       "             '4fri_18': [0.0, 0.0, 0.0],\n",
       "             '4fri_19': [0.0, 0.0, 0.0],\n",
       "             '4fri_20': [0.0, 0.0, 0.0],\n",
       "             '4fri_21': [0.0, 0.0, 0.0],\n",
       "             '4fri_22': [0.0, 0.0, 0.0],\n",
       "             '4fri_23': [0.0, 0.0, 0.0],\n",
       "             '5sat_00': [0.0, 0.0, 0.0],\n",
       "             '5sat_01': [0.0, 0.0, 0.0],\n",
       "             '5sat_02': [0.0, 48.44146, 0.0, 36.28830000000001],\n",
       "             '5sat_03': [0.0, 0.0, 0.0, 0.0],\n",
       "             '5sat_04': [0.0, 14.63782, 0.0, 0.0],\n",
       "             '5sat_05': [0.0, 0.0, 0.0, 71.74774000000001],\n",
       "             '5sat_06': [0.0, 0.0, 0.0, 0.03422],\n",
       "             '5sat_07': [0.16396, 1.17656, 0.0, 11.64506],\n",
       "             '5sat_08': [0.019819999999999997, 0.72792, 0.0, 0.0],\n",
       "             '5sat_09': [22.7027, 0.0, 0.0, 0.0],\n",
       "             '5sat_10': [0.0, 0.33154, 0.0, 0.0],\n",
       "             '5sat_11': [0.0, 0.2054, 0.0, 129.75494],\n",
       "             '5sat_12': [0.0, 1.4378199999999999, 0.0, 195.37655999999998],\n",
       "             '5sat_13': [0.0036, 0.58738, 0.0, 47.53152],\n",
       "             '5sat_14': [0.0, 0.0, 0.0, 0.0],\n",
       "             '5sat_15': [0.0, 0.0, 0.0, 0.0],\n",
       "             '5sat_16': [0.0, 0.0, 0.0, 0.0],\n",
       "             '5sat_17': [0.0, 0.0, 0.0, 0.0],\n",
       "             '5sat_18': [0.0, 0.0, 0.0, 0.0],\n",
       "             '5sat_19': [0.0, 0.0, 0.0, 0.0],\n",
       "             '5sat_20': [0.0, 0.0, 0.0, 0.0],\n",
       "             '5sat_21': [0.0, 0.0, 0.0, 0.0],\n",
       "             '5sat_22': [0.0, 0.0, 0.0, 0.0],\n",
       "             '5sat_23': [0.0, 0.0, 0.0, 0.0],\n",
       "             '6sun_00': [0.0, 0.0, 0.0, 0.0],\n",
       "             '6sun_01': [0.0, 3.51172, 0.0, 27.78378],\n",
       "             '6sun_02': [0.0018, 1.9063, 0.0, 0.0],\n",
       "             '6sun_03': [0.0, 28.03966, 0.0],\n",
       "             '6sun_04': [0.0, 0.0, 0.0],\n",
       "             '6sun_05': [0.0, 0.0, 0.0036],\n",
       "             '6sun_06': [73.6072, 0.0018, 0.0],\n",
       "             '6sun_07': [47.0847, 0.24864, 0.0],\n",
       "             '6sun_08': [12.8973, 0.01802, 0.0],\n",
       "             '6sun_09': [27.353160000000003, 0.0, 0.0],\n",
       "             '6sun_10': [37.0036, 2.02162, 0.15496],\n",
       "             '6sun_11': [114.48106, 0.0072, 0.0072],\n",
       "             '6sun_12': [220.18738000000002, 0.15856, 56.73694],\n",
       "             '6sun_13': [112.91167999999999, 0.05406, 145.88652000000002],\n",
       "             '6sun_14': [12.21442, 0.0, 0.0],\n",
       "             '6sun_15': [0.0, 0.0, 0.0],\n",
       "             '6sun_16': [0.0, 0.0, 0.0],\n",
       "             '6sun_17': [0.0, 0.0, 0.0],\n",
       "             '6sun_18': [0.0, 0.0, 0.0],\n",
       "             '6sun_19': [0.0, 0.0, 0.0],\n",
       "             '6sun_20': [0.0, 0.0, 0.0],\n",
       "             '6sun_21': [0.0, 0.0, 0.0],\n",
       "             '6sun_22': [0.0, 0.0, 0.0],\n",
       "             '6sun_23': [0.0, 0.0, 0.0]})"
      ]
     },
     "execution_count": 779,
     "metadata": {},
     "output_type": "execute_result"
    }
   ],
   "source": [
    "measured_usage_grain_factors = create_usage_profile_data(df_measured, 'grain_factor')\n",
    "measured_usage_grain_factors"
   ]
  },
  {
   "cell_type": "markdown",
   "metadata": {},
   "source": [
    "## Export usage data for web app"
   ]
  },
  {
   "cell_type": "code",
   "execution_count": 780,
   "metadata": {},
   "outputs": [],
   "source": [
    "with open('data/' + + '.json', 'w') as fp:\n",
    "    json.dump(measured_usage_kw_factors, fp)\n",
    "    \n",
    "with open('data/rice_mill_grain_factor_generator_data.json', 'w') as fp:\n",
    "    json.dump(measured_usage_grain_factors, fp)"
   ]
  },
  {
   "cell_type": "markdown",
   "metadata": {},
   "source": [
    "## Generating yearly usage profile\n",
    "Now that we have usage profile data, generate a complete year's usage profile"
   ]
  },
  {
   "cell_type": "code",
   "execution_count": 781,
   "metadata": {},
   "outputs": [],
   "source": [
    "def create_year_range_df(year=2018):\n",
    "    \"\"\"\n",
    "    Creates a dataframe with a full year's dates as the index. \n",
    "    Add extra derived columns based on that datetime index: \n",
    "    (hour_of_year, day, hour_of_day, day_hour).\n",
    "    This dataframe does not contain any appliance data\n",
    "    \"\"\"\n",
    "    start_date_str = '1/1/{}'.format(year + 1)\n",
    "    start_date = pd.to_datetime(start_date_str) - pd.Timedelta(days=365)\n",
    "    hourly_periods = 8760\n",
    "    date_range = pd.date_range(start_date, periods=hourly_periods, freq='H')\n",
    "    year_hours = list(range(len(date_range)))\n",
    "    \n",
    "    # Create a full year with a datetime index (8760 hours)\n",
    "    df_year = pd.DataFrame({\"hour_of_year\": year_hours}, index=date_range)\n",
    "    \n",
    "    # Now add day of week, hour of day and day_hour columns\n",
    "    df_year['day'] = df_year.index.dayofweek.map(str) + df_year.index.day_name()\n",
    "    df_year['day'] = df_year[\"day\"].apply(shorten_day_name)\n",
    "    df_year['hour_of_day'] = df_year.index.hour\n",
    "    df_year[\"day_hour\"] = df_year.apply(lambda row: composite_val(row['day'], row['hour_of_day']), axis=1)\n",
    "    return df_year\n",
    "\n",
    "# Uncomment these to test results. \n",
    "# This function is called from generate_usage_profile() \n",
    "# df_year_example = create_year_range_df()\n",
    "# df_year_example.head()"
   ]
  },
  {
   "cell_type": "code",
   "execution_count": 792,
   "metadata": {},
   "outputs": [
    {
     "data": {
      "text/html": [
       "<div>\n",
       "<style scoped>\n",
       "    .dataframe tbody tr th:only-of-type {\n",
       "        vertical-align: middle;\n",
       "    }\n",
       "\n",
       "    .dataframe tbody tr th {\n",
       "        vertical-align: top;\n",
       "    }\n",
       "\n",
       "    .dataframe thead th {\n",
       "        text-align: right;\n",
       "    }\n",
       "</style>\n",
       "<table border=\"1\" class=\"dataframe\">\n",
       "  <thead>\n",
       "    <tr style=\"text-align: right;\">\n",
       "      <th></th>\n",
       "      <th>hour_of_year</th>\n",
       "      <th>day</th>\n",
       "      <th>hour_of_day</th>\n",
       "      <th>day_hour</th>\n",
       "      <th>kw_factor</th>\n",
       "      <th>grain_factor</th>\n",
       "    </tr>\n",
       "  </thead>\n",
       "  <tbody>\n",
       "    <tr>\n",
       "      <th>2018-01-01 00:00:00</th>\n",
       "      <td>0</td>\n",
       "      <td>0mon</td>\n",
       "      <td>0</td>\n",
       "      <td>0mon_00</td>\n",
       "      <td>0.00000</td>\n",
       "      <td>0.00000</td>\n",
       "    </tr>\n",
       "    <tr>\n",
       "      <th>2018-01-01 01:00:00</th>\n",
       "      <td>1</td>\n",
       "      <td>0mon</td>\n",
       "      <td>1</td>\n",
       "      <td>0mon_01</td>\n",
       "      <td>0.00540</td>\n",
       "      <td>0.00540</td>\n",
       "    </tr>\n",
       "    <tr>\n",
       "      <th>2018-01-01 02:00:00</th>\n",
       "      <td>2</td>\n",
       "      <td>0mon</td>\n",
       "      <td>2</td>\n",
       "      <td>0mon_02</td>\n",
       "      <td>0.00000</td>\n",
       "      <td>0.00000</td>\n",
       "    </tr>\n",
       "    <tr>\n",
       "      <th>2018-01-01 03:00:00</th>\n",
       "      <td>3</td>\n",
       "      <td>0mon</td>\n",
       "      <td>3</td>\n",
       "      <td>0mon_03</td>\n",
       "      <td>0.00000</td>\n",
       "      <td>0.00000</td>\n",
       "    </tr>\n",
       "    <tr>\n",
       "      <th>2018-01-01 04:00:00</th>\n",
       "      <td>4</td>\n",
       "      <td>0mon</td>\n",
       "      <td>4</td>\n",
       "      <td>0mon_04</td>\n",
       "      <td>0.00000</td>\n",
       "      <td>0.00000</td>\n",
       "    </tr>\n",
       "    <tr>\n",
       "      <th>2018-01-01 05:00:00</th>\n",
       "      <td>5</td>\n",
       "      <td>0mon</td>\n",
       "      <td>5</td>\n",
       "      <td>0mon_05</td>\n",
       "      <td>13.40360</td>\n",
       "      <td>13.40360</td>\n",
       "    </tr>\n",
       "    <tr>\n",
       "      <th>2018-01-01 06:00:00</th>\n",
       "      <td>6</td>\n",
       "      <td>0mon</td>\n",
       "      <td>6</td>\n",
       "      <td>0mon_06</td>\n",
       "      <td>96.62880</td>\n",
       "      <td>96.62880</td>\n",
       "    </tr>\n",
       "    <tr>\n",
       "      <th>2018-01-01 07:00:00</th>\n",
       "      <td>7</td>\n",
       "      <td>0mon</td>\n",
       "      <td>7</td>\n",
       "      <td>0mon_07</td>\n",
       "      <td>9.31530</td>\n",
       "      <td>9.31530</td>\n",
       "    </tr>\n",
       "    <tr>\n",
       "      <th>2018-01-01 08:00:00</th>\n",
       "      <td>8</td>\n",
       "      <td>0mon</td>\n",
       "      <td>8</td>\n",
       "      <td>0mon_08</td>\n",
       "      <td>0.00000</td>\n",
       "      <td>0.00000</td>\n",
       "    </tr>\n",
       "    <tr>\n",
       "      <th>2018-01-01 09:00:00</th>\n",
       "      <td>9</td>\n",
       "      <td>0mon</td>\n",
       "      <td>9</td>\n",
       "      <td>0mon_09</td>\n",
       "      <td>13.66486</td>\n",
       "      <td>13.66486</td>\n",
       "    </tr>\n",
       "  </tbody>\n",
       "</table>\n",
       "</div>"
      ],
      "text/plain": [
       "                     hour_of_year   day  hour_of_day day_hour  kw_factor  \\\n",
       "2018-01-01 00:00:00             0  0mon            0  0mon_00    0.00000   \n",
       "2018-01-01 01:00:00             1  0mon            1  0mon_01    0.00540   \n",
       "2018-01-01 02:00:00             2  0mon            2  0mon_02    0.00000   \n",
       "2018-01-01 03:00:00             3  0mon            3  0mon_03    0.00000   \n",
       "2018-01-01 04:00:00             4  0mon            4  0mon_04    0.00000   \n",
       "2018-01-01 05:00:00             5  0mon            5  0mon_05   13.40360   \n",
       "2018-01-01 06:00:00             6  0mon            6  0mon_06   96.62880   \n",
       "2018-01-01 07:00:00             7  0mon            7  0mon_07    9.31530   \n",
       "2018-01-01 08:00:00             8  0mon            8  0mon_08    0.00000   \n",
       "2018-01-01 09:00:00             9  0mon            9  0mon_09   13.66486   \n",
       "\n",
       "                     grain_factor  \n",
       "2018-01-01 00:00:00       0.00000  \n",
       "2018-01-01 01:00:00       0.00540  \n",
       "2018-01-01 02:00:00       0.00000  \n",
       "2018-01-01 03:00:00       0.00000  \n",
       "2018-01-01 04:00:00       0.00000  \n",
       "2018-01-01 05:00:00      13.40360  \n",
       "2018-01-01 06:00:00      96.62880  \n",
       "2018-01-01 07:00:00       9.31530  \n",
       "2018-01-01 08:00:00       0.00000  \n",
       "2018-01-01 09:00:00      13.66486  "
      ]
     },
     "execution_count": 792,
     "metadata": {},
     "output_type": "execute_result"
    }
   ],
   "source": [
    "#df_year['kw_factor'] = df_year.apply(partial(sample_usage_index, kw_factor), axis=1)\n",
    "# df_year['grain_factor'] = df_year.apply(partial(sample_usage_index, grain_factor), axis=1) \n",
    "\n",
    "\n",
    "def sample_usage_index(usage_factors, day_hour):\n",
    "    \"\"\"\n",
    "    Takes the measured usage dictionary and a dataframe row\n",
    "    from the empty yearly profile created in create_year_range_df. \n",
    "    Using the day_hour from that dataframe row, take a random\n",
    "    sample of the same day_hour from the measured data.\n",
    "    \"\"\"\n",
    "    choice_index_range = range(len(usage_factors[day_hour]))\n",
    "    return random.choice(choice_index_range)\n",
    "    \n",
    "\n",
    "def generate_usage_profile(kw_factors, grain_factors, year=2018):\n",
    "    \"\"\"\n",
    "    Generate a full year's usage profile by sampling measured data \n",
    "    Takes the measured usage dictionary for both kW and grain factor\n",
    "    and optional year.\n",
    "    Returns a dataframe of hourly intevals with sampled appliance values\n",
    "    \"\"\"\n",
    "    # Create dataframe with a full year of hourly intervals\n",
    "    df_year = create_year_range_df(year)\n",
    "\n",
    "    # We need to make sure we take the same sample from both kw_factors and grain_factors\n",
    "    # So instead of returning a factor from the sampling, return an index of the list of factors  \n",
    "    for row_index, row in df_year.iterrows():\n",
    "        day_hour = row['day_hour']\n",
    "        usage_index = sample_usage_index(kw_factors, day_hour)\n",
    "        \n",
    "        # Add new columns with the sample values\n",
    "        df_year.at[row_index, 'kw_factor'] = kw_factors[day_hour][usage_index]\n",
    "        df_year.at[row_index, 'grain_factor'] = grain_factors[day_hour][usage_index]\n",
    "        \n",
    "    return df_year\n",
    "\n",
    "\n",
    "df_generated_usage_profile = generate_usage_profile(measured_usage_kw_factors, measured_usage_grain_factors)\n",
    "df_generated_usage_profile.head(10)"
   ]
  },
  {
   "cell_type": "code",
   "execution_count": 783,
   "metadata": {},
   "outputs": [
    {
     "data": {
      "text/html": [
       "<div>\n",
       "<style scoped>\n",
       "    .dataframe tbody tr th:only-of-type {\n",
       "        vertical-align: middle;\n",
       "    }\n",
       "\n",
       "    .dataframe tbody tr th {\n",
       "        vertical-align: top;\n",
       "    }\n",
       "\n",
       "    .dataframe thead th {\n",
       "        text-align: right;\n",
       "    }\n",
       "</style>\n",
       "<table border=\"1\" class=\"dataframe\">\n",
       "  <thead>\n",
       "    <tr style=\"text-align: right;\">\n",
       "      <th></th>\n",
       "      <th>hour_of_year</th>\n",
       "      <th>hour_of_day</th>\n",
       "      <th>kw_factor</th>\n",
       "      <th>grain_factor</th>\n",
       "    </tr>\n",
       "  </thead>\n",
       "  <tbody>\n",
       "    <tr>\n",
       "      <th>count</th>\n",
       "      <td>8760.000000</td>\n",
       "      <td>8760.000000</td>\n",
       "      <td>8760.000000</td>\n",
       "      <td>8760.000000</td>\n",
       "    </tr>\n",
       "    <tr>\n",
       "      <th>mean</th>\n",
       "      <td>4379.500000</td>\n",
       "      <td>11.500000</td>\n",
       "      <td>11.231174</td>\n",
       "      <td>11.231174</td>\n",
       "    </tr>\n",
       "    <tr>\n",
       "      <th>std</th>\n",
       "      <td>2528.938512</td>\n",
       "      <td>6.922582</td>\n",
       "      <td>34.811983</td>\n",
       "      <td>34.811983</td>\n",
       "    </tr>\n",
       "    <tr>\n",
       "      <th>min</th>\n",
       "      <td>0.000000</td>\n",
       "      <td>0.000000</td>\n",
       "      <td>0.000000</td>\n",
       "      <td>0.000000</td>\n",
       "    </tr>\n",
       "    <tr>\n",
       "      <th>25%</th>\n",
       "      <td>2189.750000</td>\n",
       "      <td>5.750000</td>\n",
       "      <td>0.000000</td>\n",
       "      <td>0.000000</td>\n",
       "    </tr>\n",
       "    <tr>\n",
       "      <th>50%</th>\n",
       "      <td>4379.500000</td>\n",
       "      <td>11.500000</td>\n",
       "      <td>0.000000</td>\n",
       "      <td>0.000000</td>\n",
       "    </tr>\n",
       "    <tr>\n",
       "      <th>75%</th>\n",
       "      <td>6569.250000</td>\n",
       "      <td>17.250000</td>\n",
       "      <td>0.000000</td>\n",
       "      <td>0.000000</td>\n",
       "    </tr>\n",
       "    <tr>\n",
       "      <th>max</th>\n",
       "      <td>8759.000000</td>\n",
       "      <td>23.000000</td>\n",
       "      <td>263.009000</td>\n",
       "      <td>263.009000</td>\n",
       "    </tr>\n",
       "  </tbody>\n",
       "</table>\n",
       "</div>"
      ],
      "text/plain": [
       "       hour_of_year  hour_of_day    kw_factor  grain_factor\n",
       "count   8760.000000  8760.000000  8760.000000   8760.000000\n",
       "mean    4379.500000    11.500000    11.231174     11.231174\n",
       "std     2528.938512     6.922582    34.811983     34.811983\n",
       "min        0.000000     0.000000     0.000000      0.000000\n",
       "25%     2189.750000     5.750000     0.000000      0.000000\n",
       "50%     4379.500000    11.500000     0.000000      0.000000\n",
       "75%     6569.250000    17.250000     0.000000      0.000000\n",
       "max     8759.000000    23.000000   263.009000    263.009000"
      ]
     },
     "execution_count": 783,
     "metadata": {},
     "output_type": "execute_result"
    }
   ],
   "source": [
    "df_generated_usage_profile.describe()"
   ]
  },
  {
   "cell_type": "code",
   "execution_count": 784,
   "metadata": {},
   "outputs": [
    {
     "data": {
      "text/html": [
       "\n",
       "        <iframe\n",
       "            width=\"100%\"\n",
       "            height=\"500\"\n",
       "            src=\"pivottablejs.html\"\n",
       "            frameborder=\"0\"\n",
       "            allowfullscreen\n",
       "        ></iframe>\n",
       "        "
      ],
      "text/plain": [
       "<IPython.lib.display.IFrame at 0x1a1a66c908>"
      ]
     },
     "execution_count": 784,
     "metadata": {},
     "output_type": "execute_result"
    }
   ],
   "source": [
    "## Measured usage profile by hour_of_day\n",
    "# Only showing kw_factor since currently it's the same as grain_factor\n",
    "pivot_ui(df_measured, \n",
    "         cols=['hour_of_day'],\n",
    "         rendererName=\"Table Barchart\",\n",
    "         aggregatorName=\"Average\",\n",
    "         vals=[\"kw_factor\"])"
   ]
  },
  {
   "cell_type": "code",
   "execution_count": 785,
   "metadata": {},
   "outputs": [
    {
     "data": {
      "text/html": [
       "\n",
       "        <iframe\n",
       "            width=\"100%\"\n",
       "            height=\"500\"\n",
       "            src=\"pivottablejs.html\"\n",
       "            frameborder=\"0\"\n",
       "            allowfullscreen\n",
       "        ></iframe>\n",
       "        "
      ],
      "text/plain": [
       "<IPython.lib.display.IFrame at 0x1a1a66c080>"
      ]
     },
     "execution_count": 785,
     "metadata": {},
     "output_type": "execute_result"
    }
   ],
   "source": [
    "## Generated usage profile by hour_of_day\n",
    "pivot_ui(df_generated_usage_profile, \n",
    "         cols=['hour_of_day'],\n",
    "         rendererName=\"Table Barchart\",\n",
    "         aggregatorName=\"Average\",\n",
    "         vals=[\"kw_factor\"])"
   ]
  },
  {
   "cell_type": "code",
   "execution_count": 786,
   "metadata": {},
   "outputs": [
    {
     "data": {
      "text/html": [
       "\n",
       "        <iframe\n",
       "            width=\"100%\"\n",
       "            height=\"500\"\n",
       "            src=\"pivottablejs.html\"\n",
       "            frameborder=\"0\"\n",
       "            allowfullscreen\n",
       "        ></iframe>\n",
       "        "
      ],
      "text/plain": [
       "<IPython.lib.display.IFrame at 0x10efb2400>"
      ]
     },
     "execution_count": 786,
     "metadata": {},
     "output_type": "execute_result"
    }
   ],
   "source": [
    "## Measured usage profile by day\n",
    "pivot_ui(df_measured, \n",
    "         cols=['day'],\n",
    "         rendererName=\"Table Barchart\",\n",
    "         aggregatorName=\"Average\",\n",
    "         vals=[\"kw_factor\"])"
   ]
  },
  {
   "cell_type": "code",
   "execution_count": 787,
   "metadata": {},
   "outputs": [
    {
     "data": {
      "text/html": [
       "\n",
       "        <iframe\n",
       "            width=\"100%\"\n",
       "            height=\"500\"\n",
       "            src=\"pivottablejs.html\"\n",
       "            frameborder=\"0\"\n",
       "            allowfullscreen\n",
       "        ></iframe>\n",
       "        "
      ],
      "text/plain": [
       "<IPython.lib.display.IFrame at 0x10e90f518>"
      ]
     },
     "execution_count": 787,
     "metadata": {},
     "output_type": "execute_result"
    }
   ],
   "source": [
    "## Generated usage profile by day\n",
    "pivot_ui(df_generated_usage_profile,\n",
    "         cols=['day'],\n",
    "         rendererName=\"Table Barchart\",\n",
    "         aggregatorName=\"Average\",\n",
    "         vals=[\"kw_factor\"])"
   ]
  },
  {
   "cell_type": "code",
   "execution_count": 788,
   "metadata": {},
   "outputs": [
    {
     "data": {
      "text/plain": [
       "<matplotlib.axes._subplots.AxesSubplot at 0x10f7145f8>"
      ]
     },
     "execution_count": 788,
     "metadata": {},
     "output_type": "execute_result"
    },
    {
     "data": {
      "image/png": "[encoded data removed]",
      "text/plain": [
       "<matplotlib.figure.Figure at 0x1a1a66cf28>"
      ]
     },
     "metadata": {},
     "output_type": "display_data"
    }
   ],
   "source": [
    "# Show a week's worth of mill usage:\n",
    "df_week_6 = df_generated_usage_profile.loc[df_generated_usage_profile.index.week == 5]\n",
    "df_week_6.plot(y='kw_factor', figsize=(20, 4))"
   ]
  },
  {
   "cell_type": "code",
   "execution_count": 789,
   "metadata": {},
   "outputs": [
    {
     "data": {
      "text/plain": [
       "<matplotlib.axes._subplots.AxesSubplot at 0x10f0d5710>"
      ]
     },
     "execution_count": 789,
     "metadata": {},
     "output_type": "execute_result"
    },
    {
     "data": {
      "image/png": "[encoded data removed]",
      "text/plain": [
       "<matplotlib.figure.Figure at 0x10ef3f128>"
      ]
     },
     "metadata": {},
     "output_type": "display_data"
    }
   ],
   "source": [
    "# Show a month's worth of mill usage:\n",
    "df_february = df_generated_usage_profile.loc[df_generated_usage_profile.index.month == 4]\n",
    "df_february.plot(y='kw_factor', figsize=(20, 4))"
   ]
  },
  {
   "cell_type": "code",
   "execution_count": 790,
   "metadata": {},
   "outputs": [
    {
     "data": {
      "text/plain": [
       "<matplotlib.axes._subplots.AxesSubplot at 0x10f933390>"
      ]
     },
     "execution_count": 790,
     "metadata": {},
     "output_type": "execute_result"
    },
    {
     "data": {
      "image/png": "[encoded data removed]",
      "text/plain": [
       "<matplotlib.figure.Figure at 0x1a1a635320>"
      ]
     },
     "metadata": {},
     "output_type": "display_data"
    }
   ],
   "source": [
    "# Show entire year's worth of mill usage:\n",
    "df_generated_usage_profile.plot(y='kw_factor', figsize=(20, 4))"
   ]
  },
  {
   "cell_type": "markdown",
   "metadata": {},
   "source": [
    "## Export yearly usage profile \n",
    "The web app doesn't need this data but it can be used for other analysis"
   ]
  },
  {
   "cell_type": "code",
   "execution_count": 793,
   "metadata": {},
   "outputs": [
    {
     "ename": "NameError",
     "evalue": "name 'output_profile_name' is not defined",
     "output_type": "error",
     "traceback": [
      "\u001b[0;31m---------------------------------------------------------------------------\u001b[0m",
      "\u001b[0;31mNameError\u001b[0m                                 Traceback (most recent call last)",
      "\u001b[0;32m<ipython-input-793-7f08737162ac>\u001b[0m in \u001b[0;36m<module>\u001b[0;34m()\u001b[0m\n\u001b[0;32m----> 1\u001b[0;31m \u001b[0mprint\u001b[0m\u001b[0;34m(\u001b[0m\u001b[0;34m\"outputting to: \"\u001b[0m\u001b[0;34m,\u001b[0m \u001b[0moutput_profile_name\u001b[0m\u001b[0;34m)\u001b[0m\u001b[0;34m\u001b[0m\u001b[0m\n\u001b[0m\u001b[1;32m      2\u001b[0m \u001b[0mdf_generated_usage_profile\u001b[0m\u001b[0;34m.\u001b[0m\u001b[0mto_csv\u001b[0m\u001b[0;34m(\u001b[0m\u001b[0moutput_profile_name\u001b[0m\u001b[0;34m)\u001b[0m\u001b[0;34m\u001b[0m\u001b[0m\n",
      "\u001b[0;31mNameError\u001b[0m: name 'output_profile_name' is not defined"
     ]
    }
   ],
   "source": [
    "print(\"outputting to: \", output_profile_name)\n",
    "df_generated_usage_profile.to_csv(output_profile_name)"
   ]
  },
  {
   "cell_type": "code",
   "execution_count": null,
   "metadata": {},
   "outputs": [],
   "source": []
  }
 ],
 "metadata": {
  "kernelspec": {
   "display_name": "Python 3",
   "language": "python",
   "name": "python3"
  },
  "language_info": {
   "codemirror_mode": {
    "name": "ipython",
    "version": 3
   },
   "file_extension": ".py",
   "mimetype": "text/x-python",
   "name": "python",
   "nbconvert_exporter": "python",
   "pygments_lexer": "ipython3",
   "version": "3.6.4"
  }
 },
 "nbformat": 4,
 "nbformat_minor": 2
}
